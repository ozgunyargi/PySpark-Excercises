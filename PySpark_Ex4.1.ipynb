{
  "cells": [
    {
      "cell_type": "markdown",
      "metadata": {
        "id": "xveJbX3QMcm7"
      },
      "source": [
        "# PySpark Exercises 4.a \n",
        "---\n",
        "Özgün Yargı"
      ]
    },
    {
      "cell_type": "markdown",
      "metadata": {
        "id": "zHzGJEyJMhnq"
      },
      "source": [
        "## Install Dependencies"
      ]
    },
    {
      "cell_type": "code",
      "execution_count": null,
      "metadata": {
        "colab": {
          "base_uri": "https://localhost:8080/"
        },
        "id": "byxrAp5RMcSw",
        "outputId": "37b2419e-c520-4a92-ec22-6a00d235e05d"
      },
      "outputs": [
        {
          "name": "stdout",
          "output_type": "stream",
          "text": [
            "Looking in indexes: https://pypi.org/simple, https://us-python.pkg.dev/colab-wheels/public/simple/\n",
            "Collecting pyspark\n",
            "  Downloading pyspark-3.2.1.tar.gz (281.4 MB)\n",
            "\u001b[K     |████████████████████████████████| 281.4 MB 36 kB/s \n",
            "\u001b[?25hCollecting py4j==0.10.9.3\n",
            "  Downloading py4j-0.10.9.3-py2.py3-none-any.whl (198 kB)\n",
            "\u001b[K     |████████████████████████████████| 198 kB 54.6 MB/s \n",
            "\u001b[?25hBuilding wheels for collected packages: pyspark\n",
            "  Building wheel for pyspark (setup.py) ... \u001b[?25l\u001b[?25hdone\n",
            "  Created wheel for pyspark: filename=pyspark-3.2.1-py2.py3-none-any.whl size=281853642 sha256=8c5312969c03501088b1031a0afaf6a0828b92cf2677e2943e8004541432ccbd\n",
            "  Stored in directory: /root/.cache/pip/wheels/9f/f5/07/7cd8017084dce4e93e84e92efd1e1d5334db05f2e83bcef74f\n",
            "Successfully built pyspark\n",
            "Installing collected packages: py4j, pyspark\n",
            "Successfully installed py4j-0.10.9.3 pyspark-3.2.1\n"
          ]
        }
      ],
      "source": [
        "!pip install pyspark"
      ]
    },
    {
      "cell_type": "markdown",
      "metadata": {
        "id": "jGUhaBPZMoQ2"
      },
      "source": [
        "## Get the Data"
      ]
    },
    {
      "cell_type": "code",
      "execution_count": null,
      "metadata": {
        "id": "BGdWOU6hG9lh"
      },
      "outputs": [],
      "source": [
        "DATA = \"auto-mpg.data.txt\""
      ]
    },
    {
      "cell_type": "markdown",
      "metadata": {
        "id": "JqaKOwCZM4-o"
      },
      "source": [
        "## Libraries"
      ]
    },
    {
      "cell_type": "code",
      "execution_count": null,
      "metadata": {
        "id": "AYXgygHXM2xu"
      },
      "outputs": [],
      "source": [
        "from pyspark.sql import SparkSession\n",
        "from pyspark.sql import functions as F\n",
        "from pyspark.sql.types import StringType"
      ]
    },
    {
      "cell_type": "markdown",
      "metadata": {
        "id": "ndhdlseWNADX"
      },
      "source": [
        "## Main"
      ]
    },
    {
      "cell_type": "code",
      "execution_count": null,
      "metadata": {
        "id": "EdrVqR5CNDnc"
      },
      "outputs": [],
      "source": [
        "spark = SparkSession.builder.appName('AUTO-MPG').getOrCreate()\n",
        "df = spark.read.csv(DATA,header=True)"
      ]
    },
    {
      "cell_type": "code",
      "execution_count": null,
      "metadata": {
        "colab": {
          "base_uri": "https://localhost:8080/"
        },
        "id": "XS3c5MD_NHhH",
        "outputId": "5b875ab8-1b16-486b-ac92-a445b0993026"
      },
      "outputs": [
        {
          "name": "stdout",
          "output_type": "stream",
          "text": [
            "+---+---------+------------+----------+------+------------+----------+------+--------------------+\n",
            "|mpg|cylinders|displacement|horsepower|weight|acceleration|model_year|origin|                name|\n",
            "+---+---------+------------+----------+------+------------+----------+------+--------------------+\n",
            "| 18|        8|         307|       130|  3504|          12|        70|     1|chevrolet chevell...|\n",
            "| 15|        8|         350|       165|  3693|        11.5|        70|     1|   buick skylark 320|\n",
            "| 18|        8|         318|       150|  3436|          11|        70|     1|  plymouth satellite|\n",
            "| 16|        8|         304|       150|  3433|          12|        70|     1|       amc rebel sst|\n",
            "| 17|        8|         302|       140|  3449|        10.5|        70|     1|         ford torino|\n",
            "| 15|        8|         429|       198|  4341|          10|        70|     1|    ford galaxie 500|\n",
            "| 14|        8|         454|       220|  4354|           9|        70|     1|    chevrolet impala|\n",
            "| 14|        8|         440|       215|  4312|         8.5|        70|     1|   plymouth fury iii|\n",
            "| 14|        8|         455|       225|  4425|          10|        70|     1|    pontiac catalina|\n",
            "| 15|        8|         390|       190|  3850|         8.5|        70|     1|  amc ambassador dpl|\n",
            "| 15|        8|         383|       170|  3563|          10|        70|     1| dodge challenger se|\n",
            "| 14|        8|         340|       160|  3609|           8|        70|     1|  plymouth 'cuda 340|\n",
            "| 15|        8|         400|       150|  3761|         9.5|        70|     1|chevrolet monte c...|\n",
            "| 14|        8|         455|       225|  3086|          10|        70|     1|buick estate wago...|\n",
            "| 24|        4|         113|        95|  2372|          15|        70|     3|toyota corona mar...|\n",
            "| 22|        6|         198|        95|  2833|        15.5|        70|     1|     plymouth duster|\n",
            "| 18|        6|         199|        97|  2774|        15.5|        70|     1|          amc hornet|\n",
            "| 21|        6|         200|        85|  2587|          16|        70|     1|       ford maverick|\n",
            "| 27|        4|          97|        88|  2130|        14.5|        70|     3|        datsun pl510|\n",
            "| 26|        4|          97|        46|  1835|        20.5|        70|     2|volkswagen 1131 d...|\n",
            "+---+---------+------------+----------+------+------------+----------+------+--------------------+\n",
            "only showing top 20 rows\n",
            "\n"
          ]
        }
      ],
      "source": [
        "df.show()"
      ]
    },
    {
      "cell_type": "code",
      "execution_count": null,
      "metadata": {
        "colab": {
          "base_uri": "https://localhost:8080/"
        },
        "id": "YdQ5-ZDGNVeM",
        "outputId": "7a007918-c718-4c7f-970a-2273a8b74b19"
      },
      "outputs": [
        {
          "data": {
            "text/plain": [
              "[DataFrame[mpg: string],\n",
              " DataFrame[cylinders: string],\n",
              " DataFrame[displacement: string],\n",
              " DataFrame[horsepower: string],\n",
              " DataFrame[weight: string],\n",
              " DataFrame[acceleration: string],\n",
              " DataFrame[model_year: string],\n",
              " DataFrame[origin: string],\n",
              " DataFrame[name: string]]"
            ]
          },
          "execution_count": 6,
          "metadata": {},
          "output_type": "execute_result"
        }
      ],
      "source": [
        "[df.select(column) for column in df.columns]"
      ]
    },
    {
      "cell_type": "code",
      "execution_count": null,
      "metadata": {
        "id": "cxAWN-hVNYYK"
      },
      "outputs": [],
      "source": [
        "df = df.withColumn(\"mpg\", df.mpg.cast(\"float\"))"
      ]
    },
    {
      "cell_type": "code",
      "execution_count": null,
      "metadata": {
        "colab": {
          "base_uri": "https://localhost:8080/"
        },
        "id": "ip3P-5diNa7D",
        "outputId": "cf035d89-aa41-4ae2-cf39-52ba6699cc83"
      },
      "outputs": [
        {
          "name": "stdout",
          "output_type": "stream",
          "text": [
            "+------+--------+\n",
            "|origin|min(mpg)|\n",
            "+------+--------+\n",
            "|     1|     9.0|\n",
            "|     2|    16.2|\n",
            "|     3|    18.0|\n",
            "+------+--------+\n",
            "\n"
          ]
        }
      ],
      "source": [
        "df_min = df.groupBy(\"origin\").min(\"mpg\").sort(\"origin\")\n",
        "df_min.show()"
      ]
    },
    {
      "cell_type": "code",
      "execution_count": null,
      "metadata": {
        "id": "v0D976-xXuCl"
      },
      "outputs": [],
      "source": [
        "def writeCountryNames(origin):\n",
        "\n",
        "  if origin == \"1\":\n",
        "    return \"USA\"\n",
        "  elif origin == \"2\":\n",
        "    return \"Europe\"\n",
        "  elif origin == \"3\":\n",
        "    return \"Asia\"\n",
        "\n",
        "myfunction = F.udf(writeCountryNames, StringType())"
      ]
    },
    {
      "cell_type": "code",
      "execution_count": null,
      "metadata": {
        "colab": {
          "base_uri": "https://localhost:8080/"
        },
        "id": "PYbZSMDsYLR6",
        "outputId": "3fb0dbc9-03e5-4b13-f83b-b9730316509c"
      },
      "outputs": [
        {
          "name": "stdout",
          "output_type": "stream",
          "text": [
            "+------+--------+---------+\n",
            "|origin|min(mpg)|Countries|\n",
            "+------+--------+---------+\n",
            "|     1|     9.0|      USA|\n",
            "|     2|    16.2|   Europe|\n",
            "|     3|    18.0|     Asia|\n",
            "+------+--------+---------+\n",
            "\n"
          ]
        }
      ],
      "source": [
        "df_min = df_min.withColumn(\"Countries\", myfunction(\"origin\"))\n",
        "df_min.show()"
      ]
    }
  ],
  "metadata": {
    "colab": {
      "provenance": []
    },
    "kernelspec": {
      "display_name": "Python 3",
      "language": "python",
      "name": "python3"
    },
    "language_info": {
      "name": "python",
      "version": "3.8.6 (tags/v3.8.6:db45529, Sep 23 2020, 15:52:53) [MSC v.1927 64 bit (AMD64)]"
    },
    "vscode": {
      "interpreter": {
        "hash": "3871db0c80cf644179281cfa1b732df82c64ec712a5f5e68a18b4fa12b33a72e"
      }
    }
  },
  "nbformat": 4,
  "nbformat_minor": 0
}
