{
  "cells": [
    {
      "cell_type": "markdown",
      "metadata": {
        "id": "yvroc264apYS"
      },
      "source": [
        "# PySpark Exercises 2.1 \n",
        "---\n",
        "Özgün Yargı"
      ]
    },
    {
      "cell_type": "markdown",
      "metadata": {
        "id": "-tJne4zeaxsS"
      },
      "source": [
        "## Install Dependencies"
      ]
    },
    {
      "cell_type": "code",
      "execution_count": 1,
      "metadata": {
        "colab": {
          "base_uri": "https://localhost:8080/"
        },
        "id": "u6_6DvyaZxpu",
        "outputId": "6a7daf6a-b2c4-45b1-86b9-072cad6c6fcb"
      },
      "outputs": [
        {
          "name": "stdout",
          "output_type": "stream",
          "text": [
            "Collecting pyspark\n",
            "  Downloading pyspark-3.2.1.tar.gz (281.4 MB)\n",
            "\u001b[K     |████████████████████████████████| 281.4 MB 36 kB/s \n",
            "\u001b[?25hCollecting py4j==0.10.9.3\n",
            "  Downloading py4j-0.10.9.3-py2.py3-none-any.whl (198 kB)\n",
            "\u001b[K     |████████████████████████████████| 198 kB 4.8 MB/s \n",
            "\u001b[?25hBuilding wheels for collected packages: pyspark\n",
            "  Building wheel for pyspark (setup.py) ... \u001b[?25l\u001b[?25hdone\n",
            "  Created wheel for pyspark: filename=pyspark-3.2.1-py2.py3-none-any.whl size=281853642 sha256=85bd0a1f9cf54dbd42b2d27d0873a8b859b26749e5be60bb2c8d98a848ec184f\n",
            "  Stored in directory: /root/.cache/pip/wheels/9f/f5/07/7cd8017084dce4e93e84e92efd1e1d5334db05f2e83bcef74f\n",
            "Successfully built pyspark\n",
            "Installing collected packages: py4j, pyspark\n",
            "Successfully installed py4j-0.10.9.3 pyspark-3.2.1\n"
          ]
        }
      ],
      "source": [
        "!pip install pyspark"
      ]
    },
    {
      "cell_type": "markdown",
      "metadata": {
        "id": "O6xi6EAubbOW"
      },
      "source": []
    },
    {
      "cell_type": "markdown",
      "metadata": {
        "id": "lBqwUTCSbgEL"
      },
      "source": [
        "## Install Libraries"
      ]
    },
    {
      "cell_type": "code",
      "execution_count": 2,
      "metadata": {
        "id": "Eqq2_jDdbiQA"
      },
      "outputs": [],
      "source": [
        "from pyspark.sql import SparkSession"
      ]
    },
    {
      "cell_type": "markdown",
      "metadata": {
        "id": "RHL1khlIbcI9"
      },
      "source": [
        "## Get the Dataset"
      ]
    },
    {
      "cell_type": "code",
      "execution_count": 50,
      "metadata": {
        "id": "fk1a6-Hgbefl"
      },
      "outputs": [],
      "source": [
        "spark = SparkSession.builder.appName('MovieLens').getOrCreate()\n",
        "\n",
        "movies = spark.read.csv('movies.csv',header=True)\n",
        "ratings = spark.read.csv('ratings.csv',header=True)\n",
        "links = spark.read.csv('links.csv',header=True)\n",
        "tags = spark.read.csv('tags.csv',header=True)"
      ]
    },
    {
      "cell_type": "code",
      "execution_count": 45,
      "metadata": {
        "colab": {
          "base_uri": "https://localhost:8080/"
        },
        "id": "cUIyAN1Qi-M3",
        "outputId": "b6c859ed-d2d5-4494-bcb1-3f8a8031d4d4"
      },
      "outputs": [
        {
          "name": "stdout",
          "output_type": "stream",
          "text": [
            "+------+-------+-----------------+----------+\n",
            "|userId|movieId|              tag| timestamp|\n",
            "+------+-------+-----------------+----------+\n",
            "|     2|  60756|            funny|1445714994|\n",
            "|     2|  60756|  Highly quotable|1445714996|\n",
            "|     2|  60756|     will ferrell|1445714992|\n",
            "|     2|  89774|     Boxing story|1445715207|\n",
            "|     2|  89774|              MMA|1445715200|\n",
            "|     2|  89774|        Tom Hardy|1445715205|\n",
            "|     2| 106782|            drugs|1445715054|\n",
            "|     2| 106782|Leonardo DiCaprio|1445715051|\n",
            "|     2| 106782|  Martin Scorsese|1445715056|\n",
            "|     7|  48516|     way too long|1169687325|\n",
            "|    18|    431|        Al Pacino|1462138765|\n",
            "|    18|    431|         gangster|1462138749|\n",
            "|    18|    431|            mafia|1462138755|\n",
            "|    18|   1221|        Al Pacino|1461699306|\n",
            "|    18|   1221|            Mafia|1461699303|\n",
            "|    18|   5995|        holocaust|1455735472|\n",
            "|    18|   5995|       true story|1455735479|\n",
            "|    18|  44665|     twist ending|1456948283|\n",
            "|    18|  52604|  Anthony Hopkins|1457650696|\n",
            "|    18|  52604|  courtroom drama|1457650711|\n",
            "+------+-------+-----------------+----------+\n",
            "only showing top 20 rows\n",
            "\n"
          ]
        }
      ],
      "source": [
        "tags.show()"
      ]
    },
    {
      "cell_type": "code",
      "execution_count": 10,
      "metadata": {
        "colab": {
          "base_uri": "https://localhost:8080/"
        },
        "id": "G0JWHpeXcUrF",
        "outputId": "e377eb18-5343-4eeb-d4e8-f5627cd28110"
      },
      "outputs": [
        {
          "name": "stdout",
          "output_type": "stream",
          "text": [
            "+------+-------+------+---------+\n",
            "|userId|movieId|rating|timestamp|\n",
            "+------+-------+------+---------+\n",
            "|     1|      1|   4.0|964982703|\n",
            "|     1|      3|   4.0|964981247|\n",
            "|     1|      6|   4.0|964982224|\n",
            "|     1|     47|   5.0|964983815|\n",
            "|     1|     50|   5.0|964982931|\n",
            "|     1|     70|   3.0|964982400|\n",
            "|     1|    101|   5.0|964980868|\n",
            "|     1|    110|   4.0|964982176|\n",
            "|     1|    151|   5.0|964984041|\n",
            "|     1|    157|   5.0|964984100|\n",
            "|     1|    163|   5.0|964983650|\n",
            "|     1|    216|   5.0|964981208|\n",
            "|     1|    223|   3.0|964980985|\n",
            "|     1|    231|   5.0|964981179|\n",
            "|     1|    235|   4.0|964980908|\n",
            "|     1|    260|   5.0|964981680|\n",
            "|     1|    296|   3.0|964982967|\n",
            "|     1|    316|   3.0|964982310|\n",
            "|     1|    333|   5.0|964981179|\n",
            "|     1|    349|   4.0|964982563|\n",
            "+------+-------+------+---------+\n",
            "only showing top 20 rows\n",
            "\n"
          ]
        }
      ],
      "source": [
        "ratings.show()"
      ]
    },
    {
      "cell_type": "code",
      "execution_count": 29,
      "metadata": {
        "colab": {
          "base_uri": "https://localhost:8080/"
        },
        "id": "e2o-ejWIgTjA",
        "outputId": "0ece1e28-c991-4e68-87bc-e1e8309bea49"
      },
      "outputs": [
        {
          "name": "stdout",
          "output_type": "stream",
          "text": [
            "+------+-------+------+---------+\n",
            "|userId|movieId|rating|timestamp|\n",
            "+------+-------+------+---------+\n",
            "|     1|      1|   4.0|964982703|\n",
            "|     1|      3|   4.0|964981247|\n",
            "|     1|      6|   4.0|964982224|\n",
            "|     1|     47|   5.0|964983815|\n",
            "|     1|     50|   5.0|964982931|\n",
            "|     1|     70|   3.0|964982400|\n",
            "|     1|    101|   5.0|964980868|\n",
            "|     1|    110|   4.0|964982176|\n",
            "|     1|    151|   5.0|964984041|\n",
            "|     1|    157|   5.0|964984100|\n",
            "|     1|    163|   5.0|964983650|\n",
            "|     1|    216|   5.0|964981208|\n",
            "|     1|    223|   3.0|964980985|\n",
            "|     1|    231|   5.0|964981179|\n",
            "|     1|    235|   4.0|964980908|\n",
            "|     1|    260|   5.0|964981680|\n",
            "|     1|    296|   3.0|964982967|\n",
            "|     1|    316|   3.0|964982310|\n",
            "|     1|    333|   5.0|964981179|\n",
            "|     1|    349|   4.0|964982563|\n",
            "+------+-------+------+---------+\n",
            "only showing top 20 rows\n",
            "\n"
          ]
        }
      ],
      "source": [
        "ratings.withColumn(\"rating\",ratings.rating.cast('float')).show()"
      ]
    },
    {
      "cell_type": "code",
      "execution_count": 32,
      "metadata": {
        "colab": {
          "base_uri": "https://localhost:8080/"
        },
        "id": "IdLzMlgrgmnT",
        "outputId": "dec64abe-b9a2-41ad-c100-ed27c5f8d942"
      },
      "outputs": [
        {
          "data": {
            "text/plain": [
              "DataFrame[summary: string, userId: string, movieId: string, rating: string, timestamp: string]"
            ]
          },
          "execution_count": 32,
          "metadata": {},
          "output_type": "execute_result"
        }
      ],
      "source": [
        "ratings.summary()"
      ]
    },
    {
      "cell_type": "code",
      "execution_count": 37,
      "metadata": {
        "id": "UH_jvY0PhMR1"
      },
      "outputs": [],
      "source": [
        "ratings = ratings.withColumn(\"rating\", ratings.rating.cast(\"float\"))"
      ]
    },
    {
      "cell_type": "code",
      "execution_count": 40,
      "metadata": {
        "id": "qPEZ_6bliAPK"
      },
      "outputs": [],
      "source": [
        "ratings_by_movies = ratings.groupBy(\"movieId\").mean(\"rating\")"
      ]
    },
    {
      "cell_type": "code",
      "execution_count": 51,
      "metadata": {
        "id": "_HoP1v7RjBRp"
      },
      "outputs": [],
      "source": [
        "movies = movies.join(tags, on=\"movieId\", how=\"right\")"
      ]
    },
    {
      "cell_type": "code",
      "execution_count": 58,
      "metadata": {
        "colab": {
          "base_uri": "https://localhost:8080/"
        },
        "id": "gNZrJPOYc5YN",
        "outputId": "8c0ec9db-2880-4e9f-d4b9-ad226205c522"
      },
      "outputs": [
        {
          "name": "stdout",
          "output_type": "stream",
          "text": [
            "+--------------------+-----------------+\n",
            "|                 tag| avg(avg(rating))|\n",
            "+--------------------+-----------------+\n",
            "|          procedural|              5.0|\n",
            "|          creativity|              5.0|\n",
            "|    free to download|              5.0|\n",
            "|        human rights|              5.0|\n",
            "|         no dialogue|              5.0|\n",
            "|            Dystopia|             4.75|\n",
            "|             parrots|             4.75|\n",
            "|            jon hamm|             4.75|\n",
            "|   thought provoking|             4.75|\n",
            "| movies about movies|4.666666666666667|\n",
            "|         imagination|4.580152671755725|\n",
            "|          depression|4.555555555555555|\n",
            "|interracial marriage|4.545454545454546|\n",
            "|           prejudice|4.545454545454546|\n",
            "|            Cambodia|4.508928571428571|\n",
            "|   building a family|              4.5|\n",
            "|        good writing|              4.5|\n",
            "|       individualism|              4.5|\n",
            "|             freedom|              4.5|\n",
            "|               crazy|              4.5|\n",
            "+--------------------+-----------------+\n",
            "only showing top 20 rows\n",
            "\n"
          ]
        }
      ],
      "source": [
        "movies.join(ratings_by_movies, on=\"movieId\", how=\"left\").groupby(\"tag\").mean(\"avg(rating)\").orderBy('avg(avg(rating))',ascending=False).show()"
      ]
    }
  ],
  "metadata": {
    "colab": {
      "name": "Ozgun-Yargi-Question1.ipynb",
      "provenance": []
    },
    "kernelspec": {
      "display_name": "Python 3",
      "language": "python",
      "name": "python3"
    },
    "language_info": {
      "name": "python",
      "version": "3.8.6 (tags/v3.8.6:db45529, Sep 23 2020, 15:52:53) [MSC v.1927 64 bit (AMD64)]"
    },
    "vscode": {
      "interpreter": {
        "hash": "3871db0c80cf644179281cfa1b732df82c64ec712a5f5e68a18b4fa12b33a72e"
      }
    }
  },
  "nbformat": 4,
  "nbformat_minor": 0
}
