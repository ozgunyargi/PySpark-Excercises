{
  "cells": [
    {
      "cell_type": "markdown",
      "metadata": {
        "id": "Oa2FBloHHklp"
      },
      "source": [
        "# PySpark Exercises 1.b \n",
        "---\n",
        "Özgün Yargı"
      ]
    },
    {
      "cell_type": "markdown",
      "metadata": {
        "id": "sFk5ls3mHrpt"
      },
      "source": [
        "## Libraries"
      ]
    },
    {
      "cell_type": "markdown",
      "metadata": {
        "id": "3m2wn7f-HyeJ"
      },
      "source": [
        "### Install Dependencies"
      ]
    },
    {
      "cell_type": "code",
      "execution_count": 1,
      "metadata": {
        "colab": {
          "base_uri": "https://localhost:8080/"
        },
        "id": "g0dcBHOjDpPm",
        "outputId": "7500b01e-24e5-4106-f667-03d96e1a9387"
      },
      "outputs": [
        {
          "name": "stdout",
          "output_type": "stream",
          "text": [
            "Collecting pyspark\n",
            "  Downloading pyspark-3.2.1.tar.gz (281.4 MB)\n",
            "\u001b[K     |████████████████████████████████| 281.4 MB 36 kB/s \n",
            "\u001b[?25hCollecting haversine\n",
            "  Downloading haversine-2.5.1-py2.py3-none-any.whl (6.1 kB)\n",
            "Collecting py4j==0.10.9.3\n",
            "  Downloading py4j-0.10.9.3-py2.py3-none-any.whl (198 kB)\n",
            "\u001b[K     |████████████████████████████████| 198 kB 58.5 MB/s \n",
            "\u001b[?25hBuilding wheels for collected packages: pyspark\n",
            "  Building wheel for pyspark (setup.py) ... \u001b[?25l\u001b[?25hdone\n",
            "  Created wheel for pyspark: filename=pyspark-3.2.1-py2.py3-none-any.whl size=281853642 sha256=7f6bb33600c6db01a0a187465fcce867bdd061ff7ab2cc03279f61bd8cabab1c\n",
            "  Stored in directory: /root/.cache/pip/wheels/9f/f5/07/7cd8017084dce4e93e84e92efd1e1d5334db05f2e83bcef74f\n",
            "Successfully built pyspark\n",
            "Installing collected packages: py4j, pyspark, haversine\n",
            "Successfully installed haversine-2.5.1 py4j-0.10.9.3 pyspark-3.2.1\n"
          ]
        }
      ],
      "source": [
        "!pip install pyspark haversine"
      ]
    },
    {
      "cell_type": "markdown",
      "metadata": {
        "id": "oRH3nQnfILL5"
      },
      "source": [
        "### Import Libraries"
      ]
    },
    {
      "cell_type": "code",
      "execution_count": 2,
      "metadata": {
        "id": "KuDgFQcvIJFO"
      },
      "outputs": [],
      "source": [
        "from pyspark import SparkContext\n",
        "from haversine import haversine\n",
        "import datetime"
      ]
    },
    {
      "cell_type": "markdown",
      "metadata": {
        "id": "iwXqpurXIWFo"
      },
      "source": [
        "## Get the Data"
      ]
    },
    {
      "cell_type": "code",
      "execution_count": 37,
      "metadata": {
        "id": "XiAqNkovIUIc"
      },
      "outputs": [],
      "source": [
        "sc = SparkContext.getOrCreate()\n",
        "rdd_earthquake = sc.textFile(\"EarthquakeDataset-Latest.txt\")"
      ]
    },
    {
      "cell_type": "markdown",
      "metadata": {
        "id": "3kSxtpSzQiWY"
      },
      "source": [
        "## Main"
      ]
    },
    {
      "cell_type": "code",
      "execution_count": 38,
      "metadata": {
        "colab": {
          "base_uri": "https://localhost:8080/"
        },
        "id": "2yfhhy4pqdjW",
        "outputId": "88219eb6-727f-439c-9f94-b521db77abc0"
      },
      "outputs": [
        {
          "data": {
            "text/plain": [
              "['No    \\tEvent ID\\tDate\\tOrigin Time\\tLatitude\\tLongitude\\tDepth(km)\\txM\\tMD\\tML\\tMw\\tMs\\tMb\\tType\\tLocation',\n",
              " '000001\\t20220228094421\\t2022.02.28\\t09:44:21.35\\t37.8750\\t26.9258\\t012.2\\t3.6\\t0.0\\t3.6\\t3.6\\t0.0\\t0.0\\tKe\\tKUSADASI KORFEZI (EGE DENIZI)']"
            ]
          },
          "execution_count": 38,
          "metadata": {},
          "output_type": "execute_result"
        }
      ],
      "source": [
        "rdd_earthquake.collect()[:2]"
      ]
    },
    {
      "cell_type": "code",
      "execution_count": 39,
      "metadata": {
        "colab": {
          "base_uri": "https://localhost:8080/"
        },
        "id": "XgQ9I94Soufi",
        "outputId": "11df3154-4eca-4db4-cd5f-b0f790e2684a"
      },
      "outputs": [
        {
          "data": {
            "text/plain": [
              "['No    ',\n",
              " 'Event ID',\n",
              " 'Date',\n",
              " 'Origin Time',\n",
              " 'Latitude',\n",
              " 'Longitude',\n",
              " 'Depth(km)',\n",
              " 'xM',\n",
              " 'MD',\n",
              " 'ML',\n",
              " 'Mw',\n",
              " 'Ms',\n",
              " 'Mb',\n",
              " 'Type',\n",
              " 'Location']"
            ]
          },
          "execution_count": 39,
          "metadata": {},
          "output_type": "execute_result"
        }
      ],
      "source": [
        "rdd_earthquake.collect()[0].split(\"\\t\") # We need Date (2), Origin Time (3), Latitude (4), Longitude (5), xM (7), Location (14) "
      ]
    },
    {
      "cell_type": "code",
      "execution_count": 40,
      "metadata": {
        "id": "G1sK4kOHoVNk"
      },
      "outputs": [],
      "source": [
        "# Get onlt the neccesarry information from the data\n",
        "\n",
        "def filter_out_data (myline):\n",
        "  sl = myline.split(\"\\t\")\n",
        "\n",
        "  # There were issues regarding the time (in the data, there were a 73 second which is not a valid notation (cannot be bigger than 60))\n",
        "  # Because of this, second, minute values that are higher than 60 are adjusted as they become valid to use in datetime function. \n",
        "  splitted_time = sl[3].split(\":\")\n",
        "  second = float(splitted_time[2])%60\n",
        "  minute = int((float(splitted_time[2])//60+float(splitted_time[1]))%60)\n",
        "  hour = int((float(splitted_time[2])//60+float(splitted_time[1]))//60+int(splitted_time[0]))\n",
        "\n",
        "  reorganized_hour = f\"{hour}:{minute}:{second}\"\n",
        "\n",
        "  return (datetime.datetime.strptime(sl[2]+\" \"+reorganized_hour, '%Y.%m.%d %H:%M:%S.%f'), float(sl[4]), float(sl[5]), float(sl[7]), sl[14])\n",
        "\n",
        "rdd_earthquake = rdd_earthquake.filter(lambda x: \"Event ID\" not in x)\n",
        "rdd_earthquake_ = rdd_earthquake.map(lambda x: filter_out_data(x))"
      ]
    },
    {
      "cell_type": "code",
      "execution_count": 41,
      "metadata": {
        "colab": {
          "base_uri": "https://localhost:8080/"
        },
        "id": "dUmh_b7utrui",
        "outputId": "7c9cab75-b550-47c8-a4d4-cf4bec04e782"
      },
      "outputs": [
        {
          "data": {
            "text/plain": [
              "(datetime.datetime(2022, 2, 28, 9, 44, 21, 350000),\n",
              " 37.875,\n",
              " 26.9258,\n",
              " 3.6,\n",
              " 'KUSADASI KORFEZI (EGE DENIZI)')"
            ]
          },
          "execution_count": 41,
          "metadata": {},
          "output_type": "execute_result"
        }
      ],
      "source": [
        "rdd_earthquake_.collect()[0]"
      ]
    },
    {
      "cell_type": "code",
      "execution_count": 42,
      "metadata": {
        "id": "9fqMd4QLrNhz"
      },
      "outputs": [],
      "source": [
        "# Sort the earthquakes according to xM in descending order\n",
        "\n",
        "sorted_earthqs = rdd_earthquake_.sortBy(lambda x: x[3], ascending=False)"
      ]
    },
    {
      "cell_type": "code",
      "execution_count": 43,
      "metadata": {
        "colab": {
          "base_uri": "https://localhost:8080/"
        },
        "id": "Tzra0_rEvGOG",
        "outputId": "13db15c5-3755-4f71-a94f-83e0de673db2"
      },
      "outputs": [
        {
          "name": "stdout",
          "output_type": "stream",
          "text": [
            "For earthquake KURUTILEK- (ERZINCAN) [North East  3.0 km] occured on 1939-12-26 with magnitude 7.9; Followings are the foreshocks and aftershocks:\n",
            "--------------------------------------------------------------------------------------------------------------------------------------------------\n",
            "\n",
            "\n",
            "For earthquake ONIKI ADALAR (AKDENIZ) occured on 1926-6-26 with magnitude 7.7; Followings are the foreshocks and aftershocks:\n",
            "-----------------------------------------------------------------------------------------------------------------------------\n",
            "  * Earthquake AKDENIZ occured on 1926-6-26 with magnitude 5.5\n",
            "\n",
            "\n",
            "For earthquake TÜRKIYE-IRAN SINIR BÖLGESI occured on 1930-5-6 with magnitude 7.6; Followings are the foreshocks and aftershocks:\n",
            "--------------------------------------------------------------------------------------------------------------------------------\n",
            "  * Earthquake KIZILCA-BASKALE (VAN) [South East  20.7 km] occured on 1930-5-7 with magnitude 5.2\n",
            "  * Earthquake KIZILCA-BASKALE (VAN) [South East  20.7 km] occured on 1930-5-7 with magnitude 4.7\n",
            "  * Earthquake TÜRKIYE-IRAN SINIR BÖLGESI occured on 1930-5-7 with magnitude 4.3\n",
            "\n",
            "\n",
            "For earthquake YENIYAKA-CALDIRAN (VAN) [South East  1.9 km] occured on 1976-11-24 with magnitude 7.5; Followings are the foreshocks and aftershocks:\n",
            "----------------------------------------------------------------------------------------------------------------------------------------------------\n",
            "  * Earthquake ARALIK-CALDIRAN (VAN) [South West  1.2 km] occured on 1976-11-24 with magnitude 5.0\n",
            "  * Earthquake BAYDOGAN-CALDIRAN (VAN) [South East  4.9 km] occured on 1976-11-24 with magnitude 5.0\n",
            "  * Earthquake ARALIK-CALDIRAN (VAN) [North East  5.7 km] occured on 1976-11-24 with magnitude 5.5\n",
            "  * Earthquake ASAGIMUTLU-CALDIRAN (VAN) [South West  1.3 km] occured on 1976-11-24 with magnitude 5.1\n",
            "\n",
            "\n",
            "For earthquake BASISKELE (KOCAELI) [North East  2.0 km] occured on 1999-8-17 with magnitude 7.4; Followings are the foreshocks and aftershocks:\n",
            "-----------------------------------------------------------------------------------------------------------------------------------------------\n",
            "  * Earthquake KORFEZ (KOCAELI) [South East  3.1 km] occured on 1999-8-17 with magnitude 4.1\n",
            "\n",
            "\n",
            "For earthquake ERIKLICE-SARKOY (TEKIRDAG) [South East  4.3 km] occured on 1912-8-9 with magnitude 7.3; Followings are the foreshocks and aftershocks:\n",
            "-----------------------------------------------------------------------------------------------------------------------------------------------------\n",
            "\n",
            "\n",
            "For earthquake YEMLICE- (VAN) [North West  1.5 km] occured on 2011-10-23 with magnitude 7.2; Followings are the foreshocks and aftershocks:\n",
            "-------------------------------------------------------------------------------------------------------------------------------------------\n",
            "  * Earthquake YEMLICE- (VAN) [South East  2.4 km] occured on 2011-10-24 with magnitude 4.5\n",
            "  * Earthquake GUVENCLI- (VAN) [East 2.3 km] occured on 2011-10-24 with magnitude 3.7\n",
            "  * Earthquake AKCAOREN- (VAN) [North East  0.8 km] occured on 2011-10-24 with magnitude 3.8\n",
            "  * Earthquake KUMLUCA- (VAN) [South East  2.4 km] occured on 2011-10-24 with magnitude 3.6\n",
            "  * Earthquake KOZLUCA- (VAN) [North West  1.8 km] occured on 2011-10-24 with magnitude 4.9\n",
            "  * Earthquake DEREBEY- (VAN) [North East  1.0 km] occured on 2011-10-24 with magnitude 3.5\n",
            "  * Earthquake BARDAKCI- (VAN) [North East  1.8 km] occured on 2011-10-24 with magnitude 4.8\n",
            "  * Earthquake GEDIKBULAK- (VAN) [North West  1.9 km] occured on 2011-10-24 with magnitude 4.5\n",
            "  * Earthquake YUKARIGOLALAN- (VAN) [North East  3.0 km] occured on 2011-10-24 with magnitude 3.7\n",
            "  * Earthquake BAKLATEPE- (VAN) [North 2.6 km] occured on 2011-10-24 with magnitude 4.3\n",
            "  * Earthquake YESILSU- (VAN) [South West  1.5 km] occured on 2011-10-24 with magnitude 4.6\n",
            "  * Earthquake HALKALI- (VAN) [South West  5.1 km] occured on 2011-10-24 with magnitude 3.9\n",
            "  * Earthquake ATMACA- (VAN) [South West  1.0 km] occured on 2011-10-24 with magnitude 3.9\n",
            "  * Earthquake DIBEKDUZU- (VAN) [North West  1.7 km] occured on 2011-10-24 with magnitude 4.7\n",
            "  * Earthquake DAGONU- (VAN) [South East  3.7 km] occured on 2011-10-24 with magnitude 3.9\n",
            "  * Earthquake BAGDASAN- (VAN) [North East  3.2 km] occured on 2011-10-24 with magnitude 4.0\n",
            "  * Earthquake KUMLUCA- (VAN) [North West  3.1 km] occured on 2011-10-24 with magnitude 3.9\n",
            "  * Earthquake SAHGELDI- (VAN) [South West  1.9 km] occured on 2011-10-24 with magnitude 3.9\n",
            "  * Earthquake DEREBEY- (VAN) [South West  1.9 km] occured on 2011-10-24 with magnitude 3.7\n",
            "  * Earthquake SAHGELDI- (VAN) [North East  2.6 km] occured on 2011-10-24 with magnitude 4.0\n",
            "  * Earthquake AKCAOREN- (VAN) [East 1.0 km] occured on 2011-10-24 with magnitude 3.5\n",
            "  * Earthquake OZYURT- (VAN) [South 0.4 km] occured on 2011-10-23 with magnitude 3.6\n",
            "  * Earthquake ASAGICITLI- (VAN) [North East  2.9 km] occured on 2011-10-23 with magnitude 4.0\n",
            "  * Earthquake YAYLIYAKA- (VAN) [South West  1.9 km] occured on 2011-10-23 with magnitude 3.6\n",
            "  * Earthquake MOLLAKASIM- (VAN) [North East  1.8 km] occured on 2011-10-23 with magnitude 3.6\n",
            "  * Earthquake DILIMLI- (VAN) [North West  0.9 km] occured on 2011-10-23 with magnitude 3.6\n",
            "  * Earthquake YEMLICE- (VAN) [North East  2.7 km] occured on 2011-10-23 with magnitude 3.9\n",
            "  * Earthquake OZYURT- (VAN) [South East  1.9 km] occured on 2011-10-23 with magnitude 4.5\n",
            "  * Earthquake YESILSU- (VAN) [North West  2.0 km] occured on 2011-10-23 with magnitude 4.9\n",
            "  * Earthquake SAHGELDI- (VAN) [North East  0.7 km] occured on 2011-10-23 with magnitude 4.9\n",
            "  * Earthquake TABANLI- (VAN) [South East  2.3 km] occured on 2011-10-23 with magnitude 3.5\n",
            "  * Earthquake ASIT- (VAN) [North 3.1 km] occured on 2011-10-23 with magnitude 4.4\n",
            "  * Earthquake GOLLU- (VAN) [South West  2.6 km] occured on 2011-10-23 with magnitude 5.1\n",
            "  * Earthquake ATMACA- (VAN) [North West  2.8 km] occured on 2011-10-23 with magnitude 3.7\n",
            "  * Earthquake ATMACA- (VAN) [South East  1.3 km] occured on 2011-10-23 with magnitude 3.5\n",
            "  * Earthquake OCAKLI- (VAN) [South East  2.0 km] occured on 2011-10-23 with magnitude 3.5\n",
            "  * Earthquake AKCAOREN- (VAN) [North East  1.2 km] occured on 2011-10-23 with magnitude 4.2\n",
            "  * Earthquake ASAGIGOLALAN- (VAN) [North West  1.5 km] occured on 2011-10-23 with magnitude 4.6\n",
            "  * Earthquake GUVENCLI- (VAN) [North 0.8 km] occured on 2011-10-23 with magnitude 4.6\n",
            "  * Earthquake HALKALI- (VAN) [North East  7.2 km] occured on 2011-10-23 with magnitude 3.5\n",
            "  * Earthquake OZYURT- (VAN) [North East  1.4 km] occured on 2011-10-23 with magnitude 3.8\n",
            "  * Earthquake YUKARIGOLALAN- (VAN) [North West  0.5 km] occured on 2011-10-23 with magnitude 4.0\n",
            "  * Earthquake DAGONU- (VAN) [South 1.5 km] occured on 2011-10-23 with magnitude 4.1\n",
            "  * Earthquake HALKALI- (VAN) [West 6.3 km] occured on 2011-10-23 with magnitude 3.6\n",
            "  * Earthquake MEYDANCIK- (VAN) [South 1.4 km] occured on 2011-10-23 with magnitude 3.6\n",
            "  * Earthquake HALKALI- (VAN) [North East  2.5 km] occured on 2011-10-23 with magnitude 4.3\n",
            "  * Earthquake SAHGELDI- (VAN) [South West  1.5 km] occured on 2011-10-23 with magnitude 4.5\n",
            "  * Earthquake KUMLUCA- (VAN) [South West  1.8 km] occured on 2011-10-23 with magnitude 3.6\n",
            "  * Earthquake OZYURT- (VAN) [South West  2.5 km] occured on 2011-10-23 with magnitude 4.3\n",
            "  * Earthquake KUMLUCA- (VAN) [North 3.9 km] occured on 2011-10-23 with magnitude 3.9\n",
            "  * Earthquake YUKARIGOLALAN- (VAN) [North East  2.2 km] occured on 2011-10-23 with magnitude 3.9\n",
            "  * Earthquake OZYURT- (VAN) [North West  3.7 km] occured on 2011-10-23 with magnitude 4.2\n",
            "  * Earthquake OZYURT- (VAN) [South West  2.0 km] occured on 2011-10-23 with magnitude 3.9\n",
            "  * Earthquake HALKALI- (VAN) [South West  2.7 km] occured on 2011-10-23 with magnitude 3.5\n",
            "  * Earthquake GUVENCLI- (VAN) [West 1.6 km] occured on 2011-10-23 with magnitude 4.3\n",
            "  * Earthquake YESILSU- (VAN) [North West  4.0 km] occured on 2011-10-23 with magnitude 5.7\n",
            "  * Earthquake GUVENCLI- (VAN) [North West  3.2 km] occured on 2011-10-23 with magnitude 3.8\n",
            "  * Earthquake HALKALI- (VAN) [North West  1.1 km] occured on 2011-10-23 with magnitude 4.2\n",
            "  * Earthquake DAGONU- (VAN) [South West  1.5 km] occured on 2011-10-23 with magnitude 3.9\n",
            "  * Earthquake GEDIKBULAK- (VAN) [South East  2.4 km] occured on 2011-10-23 with magnitude 5.6\n",
            "  * Earthquake ESENPINAR- (VAN) [North East  1.8 km] occured on 2011-10-23 with magnitude 4.9\n",
            "  * Earthquake ILIKAYNAK- (VAN) [West 1.7 km] occured on 2011-10-23 with magnitude 5.1\n",
            "\n",
            "\n",
            "For earthquake UGUR- (DUZCE) [North East  0.3 km] occured on 1999-11-12 with magnitude 7.2; Followings are the foreshocks and aftershocks:\n",
            "------------------------------------------------------------------------------------------------------------------------------------------\n",
            "  * Earthquake UGUR- (DUZCE) [South East  1.4 km] occured on 1999-11-13 with magnitude 3.5\n",
            "  * Earthquake UGUR- (DUZCE) [North East  2.3 km] occured on 1999-11-13 with magnitude 4.0\n",
            "  * Earthquake ICMELER-GOLYAKA (DUZCE) [South West  1.7 km] occured on 1999-11-13 with magnitude 4.2\n",
            "  * Earthquake PINARLAR- (DUZCE) [North West  1.2 km] occured on 1999-11-13 with magnitude 4.0\n",
            "  * Earthquake MURATBEY-KAYNASLI (DUZCE) [North 1.8 km] occured on 1999-11-13 with magnitude 4.0\n",
            "  * Earthquake YESILTEPE-KAYNASLI (DUZCE) [North East  0.2 km] occured on 1999-11-13 with magnitude 4.2\n",
            "  * Earthquake AYDINPINAR- (DUZCE) [South East  1.7 km] occured on 1999-11-13 with magnitude 4.2\n",
            "  * Earthquake DARIYERIHASANBEY-KAYNASLI (DUZCE) [South East  2.4 km] occured on 1999-11-13 with magnitude 4.0\n",
            "  * Earthquake AKTARLA- (DUZCE) [North East  0.6 km] occured on 1999-11-13 with magnitude 4.2\n",
            "  * Earthquake MURATBEY-KAYNASLI (DUZCE) [North East  2.3 km] occured on 1999-11-13 with magnitude 4.0\n",
            "  * Earthquake DARIYERIBAKACAK-KAYNASLI (DUZCE) [East 1.2 km] occured on 1999-11-13 with magnitude 4.3\n",
            "  * Earthquake BAKACAK-GOLYAKA (DUZCE) [South East  2.4 km] occured on 1999-11-13 with magnitude 4.7\n",
            "  * Earthquake YESILTEPE-KAYNASLI (DUZCE) [South East  2.9 km] occured on 1999-11-12 with magnitude 4.0\n",
            "  * Earthquake HAMAMUSTU-GOLYAKA (DUZCE) [North East  1.0 km] occured on 1999-11-12 with magnitude 4.2\n",
            "  * Earthquake TAVAK-KAYNASLI (DUZCE) [North 1.7 km] occured on 1999-11-12 with magnitude 4.1\n",
            "  * Earthquake DARIYERIBAKACAK-KAYNASLI (DUZCE) [East 0.4 km] occured on 1999-11-12 with magnitude 4.8\n",
            "  * Earthquake AYDINPINAR- (DUZCE) [South West  0.8 km] occured on 1999-11-12 with magnitude 4.4\n",
            "  * Earthquake CAMLIBEL-GOLYAKA (DUZCE) [North East  0.9 km] occured on 1999-11-12 with magnitude 4.0\n",
            "  * Earthquake DARIYERIBAKACAK-KAYNASLI (DUZCE) [North West  1.2 km] occured on 1999-11-12 with magnitude 4.5\n",
            "  * Earthquake YUNUSEFENDI-GOLYAKA (DUZCE) [South West  1.1 km] occured on 1999-11-12 with magnitude 4.5\n",
            "  * Earthquake YESILTEPE-KAYNASLI (DUZCE) [North East  0.2 km] occured on 1999-11-12 with magnitude 4.7\n",
            "  * Earthquake GUVEN- (DUZCE) [South West  0.5 km] occured on 1999-11-12 with magnitude 4.5\n",
            "  * Earthquake GOLORMANI- (DUZCE) [South East  1.2 km] occured on 1999-11-12 with magnitude 4.2\n",
            "  * Earthquake AYDINPINAR- (DUZCE) [South East  0.3 km] occured on 1999-11-12 with magnitude 4.7\n",
            "  * Earthquake YESILTEPE-KAYNASLI (DUZCE) [North West  2.0 km] occured on 1999-11-12 with magnitude 5.0\n",
            "  * Earthquake DARIYERIBAKACAK-KAYNASLI (DUZCE) [South East  1.6 km] occured on 1999-11-12 with magnitude 4.8\n",
            "  * Earthquake FINDIKLI-KAYNASLI (DUZCE) [South East  0.4 km] occured on 1999-11-12 with magnitude 4.7\n",
            "  * Earthquake OZYANIK- (DUZCE) [South West  1.4 km] occured on 1999-11-12 with magnitude 4.8\n",
            "  * Earthquake DARIYERIBAKACAK-KAYNASLI (DUZCE) [East 1.2 km] occured on 1999-11-12 with magnitude 5.2\n",
            "  * Earthquake KALEDIBI- (DUZCE) [South West  1.3 km] occured on 1999-11-12 with magnitude 5.1\n",
            "  * Earthquake HAMAMUSTU-GOLYAKA (DUZCE) [South East  1.2 km] occured on 1999-11-12 with magnitude 5.4\n",
            "  * Earthquake AYDINPINAR- (DUZCE) [South West  1.6 km] occured on 1999-11-12 with magnitude 5.2\n",
            "\n",
            "\n",
            "For earthquake SOGUCAK-YENICE (ÇANAKKALE) [South West  2.3 km] occured on 1953-3-18 with magnitude 7.2; Followings are the foreshocks and aftershocks:\n",
            "------------------------------------------------------------------------------------------------------------------------------------------------------\n",
            "  * Earthquake ASAGIINOVA-YENICE (ÇANAKKALE) [North East  2.0 km] occured on 1953-3-19 with magnitude 4.9\n",
            "  * Earthquake BALLICAY-YENICE (ÇANAKKALE) [North East  0.5 km] occured on 1953-3-18 with magnitude 4.7\n",
            "  * Earthquake BALLICAY-YENICE (ÇANAKKALE) [North East  0.5 km] occured on 1953-3-18 with magnitude 4.9\n",
            "  * Earthquake SOGUTKOY-GONEN (BALIKESIR) [North East  2.8 km] occured on 1953-3-18 with magnitude 5.5\n",
            "  * Earthquake BALLICAY-YENICE (ÇANAKKALE) [North East  0.5 km] occured on 1953-3-18 with magnitude 5.3\n",
            "\n",
            "\n",
            "For earthquake AKDENIZ occured on 1948-2-9 with magnitude 7.2; Followings are the foreshocks and aftershocks:\n",
            "-------------------------------------------------------------------------------------------------------------\n",
            "\n",
            "\n"
          ]
        }
      ],
      "source": [
        "# Filter out the data for 10 biggest earthquake as fore and aftershocks will be listed which occured in 24hours and in 20km range. \n",
        "\n",
        "rdd_top10 = sorted_earthqs.zipWithIndex().filter(lambda x: x[1] <10)\n",
        "\n",
        "for i in rdd_top10.collect():\n",
        "  low_range_rdd = rdd_earthquake_.filter(lambda x: haversine( (i[0][1],i[0][2]), (x[1],x[2]) ) <= 20)\n",
        "  low_range_rdd = low_range_rdd.filter(lambda x: x[0]!=i[0][0])\n",
        "  close_times_rdd = low_range_rdd.filter(lambda x: i[0][0]-datetime.timedelta(days=1) <= x[0] <= i[0][0]+datetime.timedelta(days=1))\n",
        "\n",
        "  print(\"For earthquake \", i[0][4], \" occured on \", i[0][0].year,\"-\",i[0][0].month,\"-\",i[0][0].day, \" with magnitude \", i[0][3], \"; Followings are the foreshocks and aftershocks:\", sep=\"\")\n",
        "  print(\"-\"*len(\"For earthquake {} occured on {}-{}-{} with magnitude {}; Followings are the foreshocks and aftershocks:\".format(i[0][4],i[0][0].year,i[0][0].month,i[0][0].day,i[0][3])))\n",
        "  for j in close_times_rdd.collect():\n",
        "    print(\"  * Earthquake \", j[4], \" occured on \", j[0].year,\"-\",j[0].month,\"-\",j[0].day, \" with magnitude \", j[3], sep=\"\")\n",
        "  print(\"\\n\")"
      ]
    }
  ],
  "metadata": {
    "colab": {
      "collapsed_sections": [
        "3m2wn7f-HyeJ"
      ],
      "name": "Ozgun_Yargi_Question3.ipynb",
      "provenance": []
    },
    "kernelspec": {
      "display_name": "Python 3",
      "language": "python",
      "name": "python3"
    },
    "language_info": {
      "name": "python",
      "version": "3.8.6 (tags/v3.8.6:db45529, Sep 23 2020, 15:52:53) [MSC v.1927 64 bit (AMD64)]"
    },
    "vscode": {
      "interpreter": {
        "hash": "3871db0c80cf644179281cfa1b732df82c64ec712a5f5e68a18b4fa12b33a72e"
      }
    }
  },
  "nbformat": 4,
  "nbformat_minor": 0
}
