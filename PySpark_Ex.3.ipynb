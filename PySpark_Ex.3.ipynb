{
  "cells": [
    {
      "cell_type": "markdown",
      "metadata": {
        "id": "7Kgfw026BAoZ"
      },
      "source": [
        "# PySpark Exercises 3 \n",
        "---\n",
        "Özgün Yargı"
      ]
    },
    {
      "cell_type": "markdown",
      "metadata": {
        "id": "eYfSRXtXBHrr"
      },
      "source": [
        "## Install Dependencies"
      ]
    },
    {
      "cell_type": "code",
      "execution_count": 5,
      "metadata": {
        "colab": {
          "base_uri": "https://localhost:8080/"
        },
        "id": "RWzWB0AFAkhP",
        "outputId": "2dbda214-1e21-4b22-e03b-8df825707da9"
      },
      "outputs": [
        {
          "name": "stdout",
          "output_type": "stream",
          "text": [
            "Requirement already satisfied: pyspark in /usr/local/lib/python3.7/dist-packages (3.2.1)\n",
            "Requirement already satisfied: py4j==0.10.9.3 in /usr/local/lib/python3.7/dist-packages (from pyspark) (0.10.9.3)\n"
          ]
        }
      ],
      "source": [
        "!pip install pyspark"
      ]
    },
    {
      "cell_type": "markdown",
      "metadata": {
        "id": "XW9W8r1zBhbl"
      },
      "source": [
        "## Import Libraries"
      ]
    },
    {
      "cell_type": "code",
      "execution_count": 6,
      "metadata": {
        "id": "D6IOPcOfBgwM"
      },
      "outputs": [],
      "source": [
        "from tqdm import tqdm\n",
        "\n",
        "from pyspark.sql import SparkSession\n",
        "\n",
        "# Preprocessing tools\n",
        "import pyspark.sql.functions as F\n",
        "from pyspark.sql.functions import isnan\n",
        "from pyspark.ml.feature import VectorAssembler\n",
        "from pyspark.ml.feature import MinMaxScaler\n",
        "\n",
        "# Model tools\n",
        "from pyspark.ml.classification import LogisticRegression, RandomForestClassifier, DecisionTreeClassifier\n",
        "\n",
        "# Evaluation tools\n",
        "from pyspark.ml.evaluation import MulticlassClassificationEvaluator\n",
        "from pyspark.ml.tuning import CrossValidator, ParamGridBuilder"
      ]
    },
    {
      "cell_type": "markdown",
      "metadata": {
        "id": "6dshVtWdBvaP"
      },
      "source": [
        "## Get the Data"
      ]
    },
    {
      "cell_type": "code",
      "execution_count": 7,
      "metadata": {
        "id": "DsuaTEXVBurn"
      },
      "outputs": [],
      "source": [
        "DATA = \"leaf.csv\""
      ]
    },
    {
      "cell_type": "code",
      "execution_count": 8,
      "metadata": {
        "colab": {
          "base_uri": "https://localhost:8080/"
        },
        "id": "yGNuNKcPDAIX",
        "outputId": "2a8228d9-d02d-4a99-d27c-5e06974e32ca"
      },
      "outputs": [
        {
          "name": "stdout",
          "output_type": "stream",
          "text": [
            "+-----+---------------+------------+------------+----------+--------+--------------------+-------------------+-------------------------+---------+-----------------+----------------+----------+------------+----------+-------+\n",
            "|label|Specimen Number|Eccentricity|Aspect Ratio|Elongation|Solidity|Stochastic Convexity|Isoperimetic Factor|Maximal Indentation Depth|Lobedness|Average Intensity|Average Contrast|Smoothness|Third Moment|Uniformity|Entropy|\n",
            "+-----+---------------+------------+------------+----------+--------+--------------------+-------------------+-------------------------+---------+-----------------+----------------+----------+------------+----------+-------+\n",
            "|    1|              1|     0.72694|      1.4742|   0.32396| 0.98535|                   1|            0.83592|                0.0046566|0.0039465|          0.04779|         0.12795|  0.016108|   0.0052323|0.00027477| 1.1756|\n",
            "|    1|              2|     0.74173|      1.5257|   0.36116| 0.98152|             0.99825|            0.79867|                0.0052423|0.0050016|          0.02416|        0.090476| 0.0081195|    0.002708|7.4846e-05|0.69659|\n",
            "|    1|              3|     0.76722|      1.5725|   0.38998| 0.97755|                   1|            0.80812|                0.0074573| 0.010121|         0.011897|        0.057445| 0.0032891|  0.00092068|3.7886e-05|0.44348|\n",
            "|    1|              4|     0.73797|      1.4597|   0.35376| 0.97566|                   1|            0.81697|                0.0068768|0.0086068|          0.01595|        0.065491| 0.0042707|   0.0011544|6.6272e-05|0.58785|\n",
            "|    1|              5|     0.82301|      1.7707|   0.44462| 0.97698|                   1|            0.75493|                 0.007428| 0.010042|        0.0079379|        0.045339| 0.0020514|  0.00055986|2.3504e-05|0.34214|\n",
            "|    1|              6|     0.72997|      1.4892|   0.34284| 0.98755|                   1|            0.84482|                0.0049451|0.0044506|         0.010487|        0.058528| 0.0034138|   0.0011248|2.4798e-05|0.34068|\n",
            "|    1|              7|     0.82063|      1.7529|   0.44458| 0.97964|             0.99649|             0.7677|                0.0059279|0.0063954|         0.018375|        0.080587| 0.0064523|   0.0022713|4.1495e-05|0.53904|\n",
            "|    1|              8|     0.77982|      1.6215|   0.39222| 0.98512|             0.99825|            0.80816|                0.0050987|0.0047314|         0.024875|        0.089686| 0.0079794|   0.0024664|0.00014676|0.66975|\n",
            "|    1|              9|     0.83089|      1.8199|   0.45693|  0.9824|                   1|            0.77106|                0.0060055| 0.006564|        0.0072447|        0.040616| 0.0016469|  0.00038812|3.2863e-05|0.33696|\n",
            "|    1|             10|     0.90631|      2.3906|   0.58336| 0.97683|             0.99825|            0.66419|                0.0084019| 0.012848|        0.0070096|        0.042347| 0.0017901|  0.00045889|2.8251e-05|0.28082|\n",
            "|    1|             11|      0.7459|      1.4927|   0.34116| 0.98296|                   1|            0.83088|                0.0055665|0.0056395|        0.0057679|        0.036511| 0.0013313|  0.00030872|3.1839e-05|0.25026|\n",
            "|    1|             12|     0.79606|      1.6934|   0.43387| 0.98181|                   1|            0.76985|                0.0077992| 0.011071|         0.013677|        0.057832| 0.0033334|  0.00081648|0.00013855|0.49751|\n",
            "|    2|              1|     0.93361|      2.7582|   0.64257| 0.98346|                   1|            0.59851|                0.0055336|0.0055731|         0.029712|        0.089889| 0.0080153|   0.0020648|0.00023883|0.91499|\n",
            "|    2|              2|     0.91186|      2.4994|   0.60323|   0.983|                   1|            0.64916|                0.0061494|0.0068823|         0.018887|        0.072486| 0.0052267|   0.0014887|8.3271e-05|0.67811|\n",
            "|    2|              3|     0.89063|      2.2927|   0.56667| 0.98732|                   1|            0.66427|                0.0028365|0.0014643|         0.029272|        0.091328| 0.0082717|   0.0022383|0.00020166|0.87177|\n",
            "|    2|              4|     0.86755|       2.009|   0.51464| 0.98691|                   1|            0.70277|                0.0054439|0.0053937|         0.030348|        0.092063| 0.0084044|   0.0022541|0.00019854|0.94545|\n",
            "|    2|              5|     0.91852|      2.5247|   0.61648|  0.9787|                   1|            0.63037|                0.0050494|0.0046404|          0.02309|        0.082029| 0.0066839|   0.0018929|0.00012452|0.71713|\n",
            "|    2|              6|     0.88795|      2.2038|   0.56218| 0.97835|             0.99825|            0.64158|                0.0059242|0.0063874|         0.032722|        0.092969| 0.0085691|   0.0021199|0.00027729|  1.008|\n",
            "|    2|              7|     0.85121|      1.9548|    0.4892| 0.98622|                   1|            0.70267|                0.0039733|0.0028733|         0.020258|        0.070841| 0.0049933|   0.0012274|0.00014929|0.74174|\n",
            "|    2|              8|     0.89084|      2.2979|   0.57815| 0.97389|                   1|            0.64598|                 0.015271| 0.042443|         0.028461|        0.086477| 0.0074228|   0.0018832|0.00024345|0.91307|\n",
            "+-----+---------------+------------+------------+----------+--------+--------------------+-------------------+-------------------------+---------+-----------------+----------------+----------+------------+----------+-------+\n",
            "only showing top 20 rows\n",
            "\n"
          ]
        }
      ],
      "source": [
        "spark = SparkSession.builder.appName('Leaf').getOrCreate()\n",
        "\n",
        "df = spark.read.csv(DATA,header=False)\n",
        "\n",
        "new_names = [\"label\", \"Specimen Number\", \"Eccentricity\", \"Aspect Ratio\", \"Elongation\", \"Solidity\", \"Stochastic Convexity\", \"Isoperimetic Factor\", \"Maximal Indentation Depth\", \"Lobedness\", \\\n",
        "             \"Average Intensity\", \"Average Contrast\", \"Smoothness\", \"Third Moment\", \"Uniformity\", \"Entropy\"]\n",
        "\n",
        "df = df.toDF(*new_names)\n",
        "df.show()"
      ]
    },
    {
      "cell_type": "markdown",
      "metadata": {
        "id": "eXnAD2sbELUW"
      },
      "source": [
        "## Preprocessing\n",
        "---\n",
        "TODO:\n",
        "* Check if there are object type column (Done)\n",
        "* Check if there are nan values (Done)\n",
        "* Vectorize the Features (Done)\n",
        "* Split the data (Done)\n",
        "* Normalize the data (Done)\n",
        "* Construct a ML Model \n",
        "* Train the model\n",
        "* Find score on validation set."
      ]
    },
    {
      "cell_type": "markdown",
      "metadata": {
        "id": "7yJCa4xTlK8R"
      },
      "source": [
        "### Check Column Types"
      ]
    },
    {
      "cell_type": "code",
      "execution_count": 9,
      "metadata": {
        "colab": {
          "base_uri": "https://localhost:8080/"
        },
        "id": "gscO9SXhlDzH",
        "outputId": "1d8c16ba-0a21-43eb-b7b0-f498d2d792cd"
      },
      "outputs": [
        {
          "data": {
            "text/plain": [
              "[DataFrame[label: string],\n",
              " DataFrame[Specimen Number: string],\n",
              " DataFrame[Eccentricity: string],\n",
              " DataFrame[Aspect Ratio: string],\n",
              " DataFrame[Elongation: string],\n",
              " DataFrame[Solidity: string],\n",
              " DataFrame[Stochastic Convexity: string],\n",
              " DataFrame[Isoperimetic Factor: string],\n",
              " DataFrame[Maximal Indentation Depth: string],\n",
              " DataFrame[Lobedness: string],\n",
              " DataFrame[Average Intensity: string],\n",
              " DataFrame[Average Contrast: string],\n",
              " DataFrame[Smoothness: string],\n",
              " DataFrame[Third Moment: string],\n",
              " DataFrame[Uniformity: string],\n",
              " DataFrame[Entropy: string]]"
            ]
          },
          "execution_count": 9,
          "metadata": {},
          "output_type": "execute_result"
        }
      ],
      "source": [
        "[df.select(column) for column in new_names]"
      ]
    },
    {
      "cell_type": "code",
      "execution_count": 10,
      "metadata": {
        "colab": {
          "base_uri": "https://localhost:8080/"
        },
        "id": "Gl6xYBDMlXWE",
        "outputId": "2544566d-7b46-495e-f30b-9872a328bb56"
      },
      "outputs": [
        {
          "data": {
            "text/plain": [
              "[DataFrame[label: float],\n",
              " DataFrame[Specimen Number: float],\n",
              " DataFrame[Eccentricity: float],\n",
              " DataFrame[Aspect Ratio: float],\n",
              " DataFrame[Elongation: float],\n",
              " DataFrame[Solidity: float],\n",
              " DataFrame[Stochastic Convexity: float],\n",
              " DataFrame[Isoperimetic Factor: float],\n",
              " DataFrame[Maximal Indentation Depth: float],\n",
              " DataFrame[Lobedness: float],\n",
              " DataFrame[Average Intensity: float],\n",
              " DataFrame[Average Contrast: float],\n",
              " DataFrame[Smoothness: float],\n",
              " DataFrame[Third Moment: float],\n",
              " DataFrame[Uniformity: float],\n",
              " DataFrame[Entropy: float]]"
            ]
          },
          "execution_count": 10,
          "metadata": {},
          "output_type": "execute_result"
        }
      ],
      "source": [
        "for name in new_names:\n",
        "  df = df.withColumn(name, df[name].cast(\"float\"))\n",
        "\n",
        "[df.select(column) for column in new_names]"
      ]
    },
    {
      "cell_type": "markdown",
      "metadata": {
        "id": "j8d4P09BlO9y"
      },
      "source": [
        "### Check Nan Values"
      ]
    },
    {
      "cell_type": "code",
      "execution_count": 11,
      "metadata": {
        "colab": {
          "base_uri": "https://localhost:8080/"
        },
        "id": "kMsHHr3BjyTp",
        "outputId": "6f1c6e0d-b993-4035-9b08-dc6082866d47"
      },
      "outputs": [
        {
          "data": {
            "text/plain": [
              "(340, 16)"
            ]
          },
          "execution_count": 11,
          "metadata": {},
          "output_type": "execute_result"
        }
      ],
      "source": [
        "(df.count(), len(df.columns)) # Number of rows and columns"
      ]
    },
    {
      "cell_type": "code",
      "execution_count": 12,
      "metadata": {
        "colab": {
          "base_uri": "https://localhost:8080/"
        },
        "id": "sYBoIYuGhlfJ",
        "outputId": "cd044172-41ce-4aa2-eb82-ef494e8cfb39"
      },
      "outputs": [
        {
          "name": "stdout",
          "output_type": "stream",
          "text": [
            "+-----------------------------+--------------------------+--------------------------+------------------------+----------------------+----------------------------------+---------------------------------+---------------------------------------+-----------------------+-------------------------------+------------------------------+------------------------+--------------------------+------------------------+---------------------+\n",
            "|count(isnan(Specimen Number))|count(isnan(Eccentricity))|count(isnan(Aspect Ratio))|count(isnan(Elongation))|count(isnan(Solidity))|count(isnan(Stochastic Convexity))|count(isnan(Isoperimetic Factor))|count(isnan(Maximal Indentation Depth))|count(isnan(Lobedness))|count(isnan(Average Intensity))|count(isnan(Average Contrast))|count(isnan(Smoothness))|count(isnan(Third Moment))|count(isnan(Uniformity))|count(isnan(Entropy))|\n",
            "+-----------------------------+--------------------------+--------------------------+------------------------+----------------------+----------------------------------+---------------------------------+---------------------------------------+-----------------------+-------------------------------+------------------------------+------------------------+--------------------------+------------------------+---------------------+\n",
            "|                          340|                       340|                       340|                     340|                   340|                               340|                              340|                                    340|                    340|                            340|                           340|                     340|                       340|                     340|                  340|\n",
            "+-----------------------------+--------------------------+--------------------------+------------------------+----------------------+----------------------------------+---------------------------------+---------------------------------------+-----------------------+-------------------------------+------------------------------+------------------------+--------------------------+------------------------+---------------------+\n",
            "\n"
          ]
        }
      ],
      "source": [
        "df.select([F.count(isnan(new_names[indx])) for indx in range(1, len(new_names))]).show() # This shows that we have no nan values"
      ]
    },
    {
      "cell_type": "markdown",
      "metadata": {
        "id": "T0qyeFPzutid"
      },
      "source": [
        "### Vectorize Columns"
      ]
    },
    {
      "cell_type": "code",
      "execution_count": 13,
      "metadata": {
        "colab": {
          "base_uri": "https://localhost:8080/"
        },
        "id": "V-i3S-AFuv5D",
        "outputId": "b90ab9ee-8f15-4b4d-9ad5-e22305848f66"
      },
      "outputs": [
        {
          "name": "stdout",
          "output_type": "stream",
          "text": [
            "+--------------------+-----+\n",
            "|            features|label|\n",
            "+--------------------+-----+\n",
            "|[1.0,0.7269399762...|  1.0|\n",
            "|[2.0,0.7417299747...|  1.0|\n",
            "|[3.0,0.7672200202...|  1.0|\n",
            "|[4.0,0.7379699945...|  1.0|\n",
            "|[5.0,0.8230100274...|  1.0|\n",
            "+--------------------+-----+\n",
            "only showing top 5 rows\n",
            "\n"
          ]
        }
      ],
      "source": [
        "vec = VectorAssembler(inputCols=new_names[1:],\n",
        "                      outputCol='features')\n",
        "\n",
        "df_vec = vec.transform(df)\n",
        "df_vec = df_vec.select(\"features\", \"label\")\n",
        "df_vec.show(5)"
      ]
    },
    {
      "cell_type": "markdown",
      "metadata": {
        "id": "Qc63EYjks4Ad"
      },
      "source": [
        "### Train Test Split"
      ]
    },
    {
      "cell_type": "code",
      "execution_count": 14,
      "metadata": {
        "id": "S7hGF2zOs64J"
      },
      "outputs": [],
      "source": [
        "df_train, df_test = df_vec.randomSplit([0.8, 0.2], seed=42)"
      ]
    },
    {
      "cell_type": "markdown",
      "metadata": {
        "id": "tV7Om9D1qxeI"
      },
      "source": [
        "### Normalize Data"
      ]
    },
    {
      "cell_type": "code",
      "execution_count": 15,
      "metadata": {
        "colab": {
          "base_uri": "https://localhost:8080/"
        },
        "id": "2UhMHAuLEK5v",
        "outputId": "1338e6bf-01f7-4db2-df9d-94d518c55e4e"
      },
      "outputs": [
        {
          "data": {
            "text/plain": [
              "([Row(max(Uniformity)=0.002935800002887845, max(Entropy)=2.7084999084472656, max(Isoperimetic Factor)=0.8581600189208984, max(Maximal Indentation Depth)=0.19898000359535217, max(Specimen Number)=16.0, max(Average Contrast)=0.28080999851226807, max(Average Intensity)=0.19066999852657318, max(Elongation)=0.9483399987220764, max(Aspect Ratio)=19.038000106811523, max(Smoothness)=0.07308900356292725, max(Eccentricity)=0.9987099766731262, max(Stochastic Convexity)=1.0, max(Lobedness)=7.206200122833252, max(Third Moment)=0.0297860000282526, max(Solidity)=0.9938799738883972)],\n",
              " [Row(min(Uniformity)=6.9241000346664805e-06, min(Entropy)=0.16940000653266907, min(Isoperimetic Factor)=0.07837600260972977, min(Maximal Indentation Depth)=0.002836500061675906, min(Specimen Number)=1.0, min(Average Contrast)=0.03341500088572502, min(Average Intensity)=0.005021899938583374, min(Elongation)=0.10761000216007233, min(Aspect Ratio)=1.006600022315979, min(Smoothness)=0.0011152999941259623, min(Eccentricity)=0.11708000302314758, min(Stochastic Convexity)=0.3964900076389313, min(Lobedness)=0.0014642999740317464, min(Third Moment)=0.00022941999486647546, min(Solidity)=0.48548999428749084)])"
            ]
          },
          "execution_count": 15,
          "metadata": {},
          "output_type": "execute_result"
        }
      ],
      "source": [
        "max_dict = {}\n",
        "min_dict = {}\n",
        "\n",
        "for name_indx in range(1, len(new_names)):\n",
        "  max_dict[new_names[name_indx]] = \"max\"\n",
        "  min_dict[new_names[name_indx]] = \"min\"\n",
        "\n",
        "(df.agg(max_dict).collect(), df.agg(min_dict).collect())"
      ]
    },
    {
      "cell_type": "code",
      "execution_count": 16,
      "metadata": {
        "colab": {
          "base_uri": "https://localhost:8080/"
        },
        "id": "MtueM1b-rFHP",
        "outputId": "5de9e537-c178-4a95-d032-1806a989d8d1"
      },
      "outputs": [
        {
          "data": {
            "text/plain": [
              "DataFrame[features: vector, label: float, features_norm: vector]"
            ]
          },
          "execution_count": 16,
          "metadata": {},
          "output_type": "execute_result"
        }
      ],
      "source": [
        "scaler = MinMaxScaler(inputCol=\"features\", outputCol=f\"features_norm\")\n",
        "model = scaler.fit(df_train)\n",
        "model.transform(df_train)\n",
        "model.transform(df_test)"
      ]
    },
    {
      "cell_type": "code",
      "execution_count": 17,
      "metadata": {
        "colab": {
          "base_uri": "https://localhost:8080/"
        },
        "id": "j-zFei3IwUdI",
        "outputId": "617183ec-9543-423b-d69b-41091b987c54"
      },
      "outputs": [
        {
          "name": "stdout",
          "output_type": "stream",
          "text": [
            "+--------------------+-----+\n",
            "|            features|label|\n",
            "+--------------------+-----+\n",
            "|[1.0,0.3909299969...| 36.0|\n",
            "|[1.0,0.3943200111...|  4.0|\n",
            "|[1.0,0.4494099915...| 10.0|\n",
            "|[1.0,0.4634799957...|  6.0|\n",
            "|[1.0,0.4782100021...|  9.0|\n",
            "+--------------------+-----+\n",
            "only showing top 5 rows\n",
            "\n"
          ]
        }
      ],
      "source": [
        "df_train.show(5)"
      ]
    },
    {
      "cell_type": "markdown",
      "metadata": {
        "id": "Z1CD6FpSy12Q"
      },
      "source": [
        "## Create Model"
      ]
    },
    {
      "cell_type": "markdown",
      "metadata": {
        "id": "QGIZB92By47G"
      },
      "source": [
        "### Logistic Regression"
      ]
    },
    {
      "cell_type": "code",
      "execution_count": 18,
      "metadata": {
        "colab": {
          "base_uri": "https://localhost:8080/"
        },
        "id": "g7-IuATax-1t",
        "outputId": "073bf101-fae0-4282-8d0b-c52557a1afe3"
      },
      "outputs": [
        {
          "name": "stderr",
          "output_type": "stream",
          "text": [
            "maxIter:500_regParam:0.4_elasticNetParam:0.4: 100%|██████████| 27/27 [01:24<00:00,  2.96s/it]"
          ]
        }
      ],
      "source": [
        "parameters = {\"maxIter\": [10,100, 500],\n",
        "              \"regParam\": [0.0, 0.1, 0.4],\n",
        "              \"elasticNetParam\": [0.0, 0.1, 0.4]}\n",
        "\n",
        "result_dict = {}\n",
        "value_dict = {}\n",
        "pbar = tqdm(range(1,28))\n",
        "\n",
        "for maxIter in parameters[\"maxIter\"]:\n",
        "  for regParam in parameters[\"regParam\"]:\n",
        "    for elasticNetParam in parameters[\"elasticNetParam\"]:\n",
        "      pbar.set_description(f\"maxIter:{maxIter}_regParam:{regParam}_elasticNetParam:{elasticNetParam}\")\n",
        "      pbar.update(1)\n",
        "      lr = LogisticRegression(maxIter=maxIter, regParam=regParam, elasticNetParam=elasticNetParam)\n",
        "      lrModel = lr.fit(df_train) # Fit the model\n",
        "      acc = lrModel.evaluate(df_test).accuracy # Evaluate\n",
        "      value_dict[f\"maxIter:{maxIter}_regParam:{regParam}_elasticNetParam:{elasticNetParam}\"] = acc\n",
        "  \n",
        "sorted_dict = dict(sorted(value_dict.items(), key=lambda item: item[1], reverse=True))\n",
        "result_dict[\"Logistic_Regression\"] = sorted_dict"
      ]
    },
    {
      "cell_type": "markdown",
      "metadata": {
        "id": "D1lf2cxneeWX"
      },
      "source": [
        "#### Evaluation"
      ]
    },
    {
      "cell_type": "code",
      "execution_count": 19,
      "metadata": {
        "colab": {
          "base_uri": "https://localhost:8080/"
        },
        "id": "UjrXhZ9OvOBN",
        "outputId": "e63d7264-8ba6-4ddd-8a05-86495808bcfe"
      },
      "outputs": [
        {
          "name": "stdout",
          "output_type": "stream",
          "text": [
            "Logistic Regression\n",
            "-------------------\n",
            "* maxIter:10_regParam:0.0_elasticNetParam:0.0: 0.8076923076923077\n",
            "* maxIter:10_regParam:0.0_elasticNetParam:0.1: 0.8076923076923077\n",
            "* maxIter:10_regParam:0.0_elasticNetParam:0.4: 0.8076923076923077\n",
            "* maxIter:100_regParam:0.0_elasticNetParam:0.0: 0.75\n",
            "* maxIter:100_regParam:0.0_elasticNetParam:0.1: 0.75\n",
            "* maxIter:100_regParam:0.0_elasticNetParam:0.4: 0.75\n",
            "* maxIter:500_regParam:0.0_elasticNetParam:0.0: 0.75\n",
            "* maxIter:500_regParam:0.0_elasticNetParam:0.1: 0.75\n",
            "* maxIter:500_regParam:0.0_elasticNetParam:0.4: 0.75\n",
            "* maxIter:100_regParam:0.1_elasticNetParam:0.0: 0.46153846153846156\n",
            "* maxIter:500_regParam:0.1_elasticNetParam:0.0: 0.46153846153846156\n",
            "* maxIter:10_regParam:0.1_elasticNetParam:0.0: 0.4423076923076923\n",
            "* maxIter:10_regParam:0.1_elasticNetParam:0.1: 0.28846153846153844\n",
            "* maxIter:100_regParam:0.1_elasticNetParam:0.1: 0.2692307692307692\n",
            "* maxIter:500_regParam:0.1_elasticNetParam:0.1: 0.2692307692307692\n",
            "* maxIter:10_regParam:0.4_elasticNetParam:0.0: 0.23076923076923078\n",
            "* maxIter:100_regParam:0.4_elasticNetParam:0.0: 0.23076923076923078\n",
            "* maxIter:500_regParam:0.4_elasticNetParam:0.0: 0.23076923076923078\n",
            "* maxIter:100_regParam:0.1_elasticNetParam:0.4: 0.19230769230769232\n",
            "* maxIter:500_regParam:0.1_elasticNetParam:0.4: 0.19230769230769232\n",
            "* maxIter:10_regParam:0.1_elasticNetParam:0.4: 0.17307692307692307\n",
            "* maxIter:10_regParam:0.4_elasticNetParam:0.1: 0.15384615384615385\n",
            "* maxIter:100_regParam:0.4_elasticNetParam:0.1: 0.15384615384615385\n",
            "* maxIter:500_regParam:0.4_elasticNetParam:0.1: 0.15384615384615385\n",
            "* maxIter:10_regParam:0.4_elasticNetParam:0.4: 0.019230769230769232\n",
            "* maxIter:100_regParam:0.4_elasticNetParam:0.4: 0.019230769230769232\n",
            "* maxIter:500_regParam:0.4_elasticNetParam:0.4: 0.019230769230769232\n"
          ]
        }
      ],
      "source": [
        "print(\"Logistic Regression\\n\"+\"-\"*len(\"Logistic Regression\"))\n",
        "\n",
        "for key in result_dict[\"Logistic_Regression\"]:\n",
        "  acc = result_dict[\"Logistic_Regression\"][key]\n",
        "  print(f\"* {key}: {acc}\")"
      ]
    },
    {
      "cell_type": "markdown",
      "metadata": {
        "id": "GkqnVhA_zzuM"
      },
      "source": [
        "### Random Forest"
      ]
    },
    {
      "cell_type": "code",
      "execution_count": 20,
      "metadata": {
        "colab": {
          "base_uri": "https://localhost:8080/"
        },
        "id": "AB9AQWrtz2z5",
        "outputId": "851e5490-bf5d-428a-9a52-4c5600cd4d47"
      },
      "outputs": [
        {
          "name": "stderr",
          "output_type": "stream",
          "text": [
            "\n",
            "  0%|          | 0/18 [00:00<?, ?it/s]\u001b[A\n",
            "maxIter:500_regParam:0.4_elasticNetParam:0.4: 100%|██████████| 27/27 [01:27<00:00,  3.25s/it]\n",
            "\n",
            "numTrees:10_maxDepth:5_impurity:entropy:   6%|▌         | 1/18 [00:03<00:53,  3.16s/it]\u001b[A\n",
            "numTrees:10_maxDepth:5_impurity:entropy:  11%|█         | 2/18 [00:03<00:25,  1.58s/it]\u001b[A\n",
            "numTrees:10_maxDepth:10_impurity:gini:  11%|█         | 2/18 [00:04<00:25,  1.58s/it]  \u001b[A\n",
            "numTrees:10_maxDepth:10_impurity:gini:  17%|█▋        | 3/18 [00:04<00:25,  1.67s/it]\u001b[A\n",
            "numTrees:10_maxDepth:10_impurity:entropy:  17%|█▋        | 3/18 [00:08<00:25,  1.67s/it]\u001b[A\n",
            "numTrees:10_maxDepth:10_impurity:entropy:  22%|██▏       | 4/18 [00:08<00:31,  2.24s/it]\u001b[A\n",
            "numTrees:10_maxDepth:20_impurity:gini:  22%|██▏       | 4/18 [00:10<00:31,  2.24s/it]   \u001b[A\n",
            "numTrees:10_maxDepth:20_impurity:gini:  28%|██▊       | 5/18 [00:10<00:28,  2.21s/it]\u001b[A\n",
            "numTrees:10_maxDepth:20_impurity:entropy:  28%|██▊       | 5/18 [00:13<00:28,  2.21s/it]\u001b[A\n",
            "numTrees:10_maxDepth:20_impurity:entropy:  33%|███▎      | 6/18 [00:13<00:30,  2.51s/it]\u001b[A\n",
            "numTrees:100_maxDepth:5_impurity:gini:  33%|███▎      | 6/18 [00:15<00:30,  2.51s/it]   \u001b[A\n",
            "numTrees:100_maxDepth:5_impurity:gini:  39%|███▉      | 7/18 [00:15<00:26,  2.41s/it]\u001b[A\n",
            "numTrees:100_maxDepth:5_impurity:entropy:  39%|███▉      | 7/18 [00:18<00:26,  2.41s/it]\u001b[A\n",
            "numTrees:100_maxDepth:5_impurity:entropy:  44%|████▍     | 8/18 [00:18<00:25,  2.60s/it]\u001b[A\n",
            "numTrees:100_maxDepth:10_impurity:gini:  44%|████▍     | 8/18 [00:22<00:25,  2.60s/it]  \u001b[A\n",
            "numTrees:100_maxDepth:10_impurity:gini:  50%|█████     | 9/18 [00:22<00:27,  3.04s/it]\u001b[A\n",
            "numTrees:100_maxDepth:10_impurity:entropy:  50%|█████     | 9/18 [00:30<00:27,  3.04s/it]\u001b[A\n",
            "numTrees:100_maxDepth:10_impurity:entropy:  56%|█████▌    | 10/18 [00:30<00:35,  4.38s/it]\u001b[A\n",
            "numTrees:100_maxDepth:20_impurity:gini:  56%|█████▌    | 10/18 [00:37<00:35,  4.38s/it]   \u001b[A\n",
            "numTrees:100_maxDepth:20_impurity:gini:  61%|██████    | 11/18 [00:37<00:37,  5.41s/it]\u001b[A\n",
            "numTrees:100_maxDepth:20_impurity:entropy:  61%|██████    | 11/18 [00:45<00:37,  5.41s/it]\u001b[A\n",
            "numTrees:100_maxDepth:20_impurity:entropy:  67%|██████▋   | 12/18 [00:45<00:37,  6.22s/it]\u001b[A\n",
            "numTrees:500_maxDepth:5_impurity:gini:  67%|██████▋   | 12/18 [00:53<00:37,  6.22s/it]    \u001b[A\n",
            "numTrees:500_maxDepth:5_impurity:gini:  72%|███████▏  | 13/18 [00:53<00:33,  6.63s/it]\u001b[A\n",
            "numTrees:500_maxDepth:5_impurity:entropy:  72%|███████▏  | 13/18 [01:02<00:33,  6.63s/it]\u001b[A\n",
            "numTrees:500_maxDepth:5_impurity:entropy:  78%|███████▊  | 14/18 [01:02<00:28,  7.22s/it]\u001b[A\n",
            "numTrees:500_maxDepth:10_impurity:gini:  78%|███████▊  | 14/18 [01:14<00:28,  7.22s/it]  \u001b[A\n",
            "numTrees:500_maxDepth:10_impurity:gini:  83%|████████▎ | 15/18 [01:14<00:25,  8.66s/it]\u001b[A\n",
            "numTrees:500_maxDepth:10_impurity:entropy:  83%|████████▎ | 15/18 [01:41<00:25,  8.66s/it]\u001b[A\n",
            "numTrees:500_maxDepth:10_impurity:entropy:  89%|████████▉ | 16/18 [01:41<00:28, 14.24s/it]\u001b[A\n",
            "numTrees:500_maxDepth:20_impurity:gini:  89%|████████▉ | 16/18 [02:13<00:28, 14.24s/it]   \u001b[A\n",
            "numTrees:500_maxDepth:20_impurity:gini:  94%|█████████▍| 17/18 [02:13<00:19, 19.77s/it]\u001b[A\n",
            "numTrees:500_maxDepth:20_impurity:entropy:  94%|█████████▍| 17/18 [02:50<00:19, 19.77s/it]\u001b[A\n",
            "numTrees:500_maxDepth:20_impurity:entropy: 100%|██████████| 18/18 [02:50<00:00, 24.80s/it]\u001b[A"
          ]
        }
      ],
      "source": [
        "parameters = {\"numTrees\": [10,100, 500],\n",
        "              \"maxDepth\": [5, 10, 20],\n",
        "              \"impurity\": [\"gini\", \"entropy\"]}\n",
        "\n",
        "value_dict = {}\n",
        "sorted_dict = {}\n",
        "pbar = tqdm(range(1,19))\n",
        "\n",
        "for numTrees in parameters[\"numTrees\"]:\n",
        "  for maxDepth in parameters[\"maxDepth\"]:\n",
        "    for impurity in parameters[\"impurity\"]:\n",
        "      pbar.set_description(f\"numTrees:{numTrees}_maxDepth:{maxDepth}_impurity:{impurity}\")\n",
        "      pbar.update(1)\n",
        "      rf = RandomForestClassifier(numTrees=numTrees, maxDepth=maxDepth, impurity=impurity)\n",
        "      rfModel = rf.fit(df_train) # Fit the model\n",
        "      acc = rfModel.evaluate(df_test).accuracy # Evaluate\n",
        "      value_dict[f\"numTrees:{numTrees}_maxDepth:{maxDepth}_impurity:{impurity}\"] = acc\n",
        "  \n",
        "sorted_dict = dict(sorted(value_dict.items(), key=lambda item: item[1], reverse=True))\n",
        "result_dict[\"Random_Forest\"] = sorted_dict"
      ]
    },
    {
      "cell_type": "markdown",
      "metadata": {
        "id": "Z1ri5U_n80hb"
      },
      "source": [
        "#### Evaluation"
      ]
    },
    {
      "cell_type": "code",
      "execution_count": 21,
      "metadata": {
        "colab": {
          "base_uri": "https://localhost:8080/"
        },
        "id": "j9mxkHBC82Aj",
        "outputId": "7a9d50e9-d757-4ac8-9d2b-a79666288c43"
      },
      "outputs": [
        {
          "name": "stdout",
          "output_type": "stream",
          "text": [
            "Random Forest\n",
            "-------------\n",
            "* numTrees:100_maxDepth:10_impurity:entropy: 0.7307692307692307\n",
            "* numTrees:100_maxDepth:20_impurity:entropy: 0.7307692307692307\n",
            "* numTrees:100_maxDepth:20_impurity:gini: 0.7115384615384616\n",
            "* numTrees:10_maxDepth:10_impurity:entropy: 0.6923076923076923\n",
            "* numTrees:10_maxDepth:20_impurity:entropy: 0.6923076923076923\n",
            "* numTrees:100_maxDepth:5_impurity:entropy: 0.6923076923076923\n",
            "* numTrees:100_maxDepth:10_impurity:gini: 0.6923076923076923\n",
            "* numTrees:500_maxDepth:5_impurity:entropy: 0.6923076923076923\n",
            "* numTrees:500_maxDepth:10_impurity:gini: 0.6923076923076923\n",
            "* numTrees:500_maxDepth:10_impurity:entropy: 0.6923076923076923\n",
            "* numTrees:500_maxDepth:20_impurity:gini: 0.6923076923076923\n",
            "* numTrees:500_maxDepth:20_impurity:entropy: 0.6923076923076923\n",
            "* numTrees:10_maxDepth:10_impurity:gini: 0.6730769230769231\n",
            "* numTrees:10_maxDepth:5_impurity:entropy: 0.6538461538461539\n",
            "* numTrees:10_maxDepth:20_impurity:gini: 0.6538461538461539\n",
            "* numTrees:500_maxDepth:5_impurity:gini: 0.6538461538461539\n",
            "* numTrees:100_maxDepth:5_impurity:gini: 0.6346153846153846\n",
            "* numTrees:10_maxDepth:5_impurity:gini: 0.5576923076923077\n"
          ]
        }
      ],
      "source": [
        "print(\"Random Forest\\n\"+\"-\"*len(\"Random Forest\"))\n",
        "\n",
        "for key in result_dict[\"Random_Forest\"]:\n",
        "  acc = result_dict[\"Random_Forest\"][key]\n",
        "  print(f\"* {key}: {acc}\")"
      ]
    },
    {
      "cell_type": "markdown",
      "metadata": {
        "id": "nQ2jvQux9HxL"
      },
      "source": [
        "### Decision Tree"
      ]
    },
    {
      "cell_type": "code",
      "execution_count": 22,
      "metadata": {
        "id": "V_tcrUk6DuvK"
      },
      "outputs": [],
      "source": [
        "def acc_calculator (ys, preds):\n",
        "\n",
        "  truth = 0\n",
        "\n",
        "  for indx, y in enumerate(ys):\n",
        "    if y == preds[indx]:\n",
        "      truth += 1\n",
        "  \n",
        "  return truth/len(ys)"
      ]
    },
    {
      "cell_type": "code",
      "execution_count": 23,
      "metadata": {
        "colab": {
          "base_uri": "https://localhost:8080/"
        },
        "id": "1xxJbl219Li6",
        "outputId": "23591457-89c2-4b89-fcf3-8d2bcb0ebdda"
      },
      "outputs": [
        {
          "name": "stderr",
          "output_type": "stream",
          "text": [
            "numTrees:500_maxDepth:20_impurity:entropy: 100%|██████████| 18/18 [03:25<00:00, 11.42s/it]\n",
            "maxBins:40_maxDepth:20_impurity:entropy: 100%|██████████| 18/18 [00:36<00:00,  2.58s/it]"
          ]
        }
      ],
      "source": [
        "parameters = {\"maxBins\": [10,20, 40],\n",
        "              \"maxDepth\": [5, 10, 20],\n",
        "              \"impurity\": [\"gini\", \"entropy\"]}\n",
        "\n",
        "value_dict = {}\n",
        "sorted_dict = {}\n",
        "pbar = tqdm(range(1,19))\n",
        "\n",
        "for maxBins in parameters[\"maxBins\"]:\n",
        "  for maxDepth in parameters[\"maxDepth\"]:\n",
        "    for impurity in parameters[\"impurity\"]:\n",
        "      pbar.set_description(f\"maxBins:{maxBins}_maxDepth:{maxDepth}_impurity:{impurity}\")\n",
        "      pbar.update(1)\n",
        "      dt = RandomForestClassifier(maxBins=maxBins, maxDepth=maxDepth, impurity=impurity)\n",
        "      dtModel = dt.fit(df_train) # Fit the model\n",
        "      preds = dtModel.transform(df_test) # Evaluate\n",
        "      acc = acc_calculator(preds.select(\"label\").collect(), preds.select(\"prediction\").collect())\n",
        "      value_dict[f\"maxBins:{maxBins}_maxDepth:{maxDepth}_impurity:{impurity}\"] = acc\n",
        "  \n",
        "sorted_dict = dict(sorted(value_dict.items(), key=lambda item: item[1], reverse=True))\n",
        "result_dict[\"Desicion_Tree\"] = sorted_dict"
      ]
    },
    {
      "cell_type": "markdown",
      "metadata": {
        "id": "ICHtEtxVElKw"
      },
      "source": [
        "#### Evaluate"
      ]
    },
    {
      "cell_type": "code",
      "execution_count": 24,
      "metadata": {
        "colab": {
          "base_uri": "https://localhost:8080/"
        },
        "id": "9t-L6I3fEmKy",
        "outputId": "85687f35-7b7e-4fcc-ac1d-16a068b0898f"
      },
      "outputs": [
        {
          "name": "stdout",
          "output_type": "stream",
          "text": [
            "Decision Tree\n",
            "-------------\n",
            "* maxBins:40_maxDepth:10_impurity:entropy: 0.7884615384615384\n",
            "* maxBins:40_maxDepth:20_impurity:entropy: 0.7884615384615384\n",
            "* maxBins:10_maxDepth:5_impurity:entropy: 0.6923076923076923\n",
            "* maxBins:20_maxDepth:5_impurity:entropy: 0.6923076923076923\n",
            "* maxBins:20_maxDepth:10_impurity:gini: 0.6923076923076923\n",
            "* maxBins:40_maxDepth:10_impurity:gini: 0.6923076923076923\n",
            "* maxBins:40_maxDepth:20_impurity:gini: 0.6923076923076923\n",
            "* maxBins:10_maxDepth:10_impurity:entropy: 0.6730769230769231\n",
            "* maxBins:10_maxDepth:20_impurity:entropy: 0.6730769230769231\n",
            "* maxBins:20_maxDepth:10_impurity:entropy: 0.6730769230769231\n",
            "* maxBins:20_maxDepth:20_impurity:gini: 0.6730769230769231\n",
            "* maxBins:20_maxDepth:20_impurity:entropy: 0.6730769230769231\n",
            "* maxBins:10_maxDepth:20_impurity:gini: 0.6538461538461539\n",
            "* maxBins:40_maxDepth:5_impurity:entropy: 0.6538461538461539\n",
            "* maxBins:10_maxDepth:10_impurity:gini: 0.6346153846153846\n",
            "* maxBins:20_maxDepth:5_impurity:gini: 0.6153846153846154\n",
            "* maxBins:40_maxDepth:5_impurity:gini: 0.5576923076923077\n",
            "* maxBins:10_maxDepth:5_impurity:gini: 0.5384615384615384\n"
          ]
        }
      ],
      "source": [
        "print(\"Decision Tree\\n\"+\"-\"*len(\"Decision Tree\"))\n",
        "\n",
        "for key in result_dict[\"Desicion_Tree\"]:\n",
        "  acc = result_dict[\"Desicion_Tree\"][key]\n",
        "  print(f\"* {key}: {acc}\")"
      ]
    },
    {
      "cell_type": "markdown",
      "metadata": {
        "id": "_TQfrdCOExv8"
      },
      "source": [
        "## Results"
      ]
    },
    {
      "cell_type": "code",
      "execution_count": 26,
      "metadata": {
        "colab": {
          "base_uri": "https://localhost:8080/"
        },
        "id": "Y_QeEevmEymU",
        "outputId": "3fbd48ff-ac45-4ec4-986c-bb33a78bd766"
      },
      "outputs": [
        {
          "name": "stdout",
          "output_type": "stream",
          "text": [
            "Logistic_Regression\n",
            "-------------------\n",
            "* maxIter:10_regParam:0.0_elasticNetParam:0.0 => 0.808\n",
            "* maxIter:10_regParam:0.0_elasticNetParam:0.1 => 0.808\n",
            "* maxIter:10_regParam:0.0_elasticNetParam:0.4 => 0.808\n",
            "* maxIter:100_regParam:0.0_elasticNetParam:0.0 => 0.750\n",
            "* maxIter:100_regParam:0.0_elasticNetParam:0.1 => 0.750\n",
            "* maxIter:100_regParam:0.0_elasticNetParam:0.4 => 0.750\n",
            "* maxIter:500_regParam:0.0_elasticNetParam:0.0 => 0.750\n",
            "* maxIter:500_regParam:0.0_elasticNetParam:0.1 => 0.750\n",
            "* maxIter:500_regParam:0.0_elasticNetParam:0.4 => 0.750\n",
            "* maxIter:100_regParam:0.1_elasticNetParam:0.0 => 0.462\n",
            "* maxIter:500_regParam:0.1_elasticNetParam:0.0 => 0.462\n",
            "* maxIter:10_regParam:0.1_elasticNetParam:0.0 => 0.442\n",
            "* maxIter:10_regParam:0.1_elasticNetParam:0.1 => 0.288\n",
            "* maxIter:100_regParam:0.1_elasticNetParam:0.1 => 0.269\n",
            "* maxIter:500_regParam:0.1_elasticNetParam:0.1 => 0.269\n",
            "* maxIter:10_regParam:0.4_elasticNetParam:0.0 => 0.231\n",
            "* maxIter:100_regParam:0.4_elasticNetParam:0.0 => 0.231\n",
            "* maxIter:500_regParam:0.4_elasticNetParam:0.0 => 0.231\n",
            "* maxIter:100_regParam:0.1_elasticNetParam:0.4 => 0.192\n",
            "* maxIter:500_regParam:0.1_elasticNetParam:0.4 => 0.192\n",
            "* maxIter:10_regParam:0.1_elasticNetParam:0.4 => 0.173\n",
            "* maxIter:10_regParam:0.4_elasticNetParam:0.1 => 0.154\n",
            "* maxIter:100_regParam:0.4_elasticNetParam:0.1 => 0.154\n",
            "* maxIter:500_regParam:0.4_elasticNetParam:0.1 => 0.154\n",
            "* maxIter:10_regParam:0.4_elasticNetParam:0.4 => 0.019\n",
            "* maxIter:100_regParam:0.4_elasticNetParam:0.4 => 0.019\n",
            "* maxIter:500_regParam:0.4_elasticNetParam:0.4 => 0.019\n",
            "\n",
            "\n",
            "Random_Forest\n",
            "-------------\n",
            "* numTrees:100_maxDepth:10_impurity:entropy => 0.731\n",
            "* numTrees:100_maxDepth:20_impurity:entropy => 0.731\n",
            "* numTrees:100_maxDepth:20_impurity:gini => 0.712\n",
            "* numTrees:10_maxDepth:10_impurity:entropy => 0.692\n",
            "* numTrees:10_maxDepth:20_impurity:entropy => 0.692\n",
            "* numTrees:100_maxDepth:5_impurity:entropy => 0.692\n",
            "* numTrees:100_maxDepth:10_impurity:gini => 0.692\n",
            "* numTrees:500_maxDepth:5_impurity:entropy => 0.692\n",
            "* numTrees:500_maxDepth:10_impurity:gini => 0.692\n",
            "* numTrees:500_maxDepth:10_impurity:entropy => 0.692\n",
            "* numTrees:500_maxDepth:20_impurity:gini => 0.692\n",
            "* numTrees:500_maxDepth:20_impurity:entropy => 0.692\n",
            "* numTrees:10_maxDepth:10_impurity:gini => 0.673\n",
            "* numTrees:10_maxDepth:5_impurity:entropy => 0.654\n",
            "* numTrees:10_maxDepth:20_impurity:gini => 0.654\n",
            "* numTrees:500_maxDepth:5_impurity:gini => 0.654\n",
            "* numTrees:100_maxDepth:5_impurity:gini => 0.635\n",
            "* numTrees:10_maxDepth:5_impurity:gini => 0.558\n",
            "\n",
            "\n",
            "Desicion_Tree\n",
            "-------------\n",
            "* maxBins:40_maxDepth:10_impurity:entropy => 0.788\n",
            "* maxBins:40_maxDepth:20_impurity:entropy => 0.788\n",
            "* maxBins:10_maxDepth:5_impurity:entropy => 0.692\n",
            "* maxBins:20_maxDepth:5_impurity:entropy => 0.692\n",
            "* maxBins:20_maxDepth:10_impurity:gini => 0.692\n",
            "* maxBins:40_maxDepth:10_impurity:gini => 0.692\n",
            "* maxBins:40_maxDepth:20_impurity:gini => 0.692\n",
            "* maxBins:10_maxDepth:10_impurity:entropy => 0.673\n",
            "* maxBins:10_maxDepth:20_impurity:entropy => 0.673\n",
            "* maxBins:20_maxDepth:10_impurity:entropy => 0.673\n",
            "* maxBins:20_maxDepth:20_impurity:gini => 0.673\n",
            "* maxBins:20_maxDepth:20_impurity:entropy => 0.673\n",
            "* maxBins:10_maxDepth:20_impurity:gini => 0.654\n",
            "* maxBins:40_maxDepth:5_impurity:entropy => 0.654\n",
            "* maxBins:10_maxDepth:10_impurity:gini => 0.635\n",
            "* maxBins:20_maxDepth:5_impurity:gini => 0.615\n",
            "* maxBins:40_maxDepth:5_impurity:gini => 0.558\n",
            "* maxBins:10_maxDepth:5_impurity:gini => 0.538\n",
            "\n",
            "\n"
          ]
        }
      ],
      "source": [
        "for classifier in result_dict:\n",
        "  print(classifier + \"\\n\" + \"-\"*len(classifier))\n",
        "  for key in result_dict[classifier]:\n",
        "    print(\"* \" + key + \" => \" + format(result_dict[classifier][key], \".3f\"))\n",
        "  print(\"\\n\")"
      ]
    }
  ],
  "metadata": {
    "colab": {
      "collapsed_sections": [],
      "name": "Ozgun-Yargi-HW3.ipynb",
      "provenance": []
    },
    "kernelspec": {
      "display_name": "Python 3",
      "name": "python3"
    },
    "language_info": {
      "name": "python"
    }
  },
  "nbformat": 4,
  "nbformat_minor": 0
}
