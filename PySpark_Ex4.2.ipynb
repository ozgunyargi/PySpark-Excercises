{
  "cells": [
    {
      "cell_type": "markdown",
      "metadata": {
        "id": "xveJbX3QMcm7"
      },
      "source": [
        "# PySpark Exercises 4.b \n",
        "---\n",
        "Özgün Yargı"
      ]
    },
    {
      "cell_type": "markdown",
      "metadata": {
        "id": "zHzGJEyJMhnq"
      },
      "source": [
        "## Install Dependencies"
      ]
    },
    {
      "cell_type": "code",
      "execution_count": null,
      "metadata": {
        "colab": {
          "base_uri": "https://localhost:8080/"
        },
        "id": "byxrAp5RMcSw",
        "outputId": "8078fdb6-4713-430d-a669-d09f64709915"
      },
      "outputs": [
        {
          "name": "stdout",
          "output_type": "stream",
          "text": [
            "Looking in indexes: https://pypi.org/simple, https://us-python.pkg.dev/colab-wheels/public/simple/\n",
            "Collecting pyspark\n",
            "  Downloading pyspark-3.2.1.tar.gz (281.4 MB)\n",
            "\u001b[K     |████████████████████████████████| 281.4 MB 33 kB/s \n",
            "\u001b[?25hCollecting py4j==0.10.9.3\n",
            "  Downloading py4j-0.10.9.3-py2.py3-none-any.whl (198 kB)\n",
            "\u001b[K     |████████████████████████████████| 198 kB 40.3 MB/s \n",
            "\u001b[?25hBuilding wheels for collected packages: pyspark\n",
            "  Building wheel for pyspark (setup.py) ... \u001b[?25l\u001b[?25hdone\n",
            "  Created wheel for pyspark: filename=pyspark-3.2.1-py2.py3-none-any.whl size=281853642 sha256=fe62068f662b6e2f52303ddccccb1987dd6639332bb29b0fa2854b7fb443c4f8\n",
            "  Stored in directory: /root/.cache/pip/wheels/9f/f5/07/7cd8017084dce4e93e84e92efd1e1d5334db05f2e83bcef74f\n",
            "Successfully built pyspark\n",
            "Installing collected packages: py4j, pyspark\n",
            "Successfully installed py4j-0.10.9.3 pyspark-3.2.1\n"
          ]
        }
      ],
      "source": [
        "!pip install pyspark"
      ]
    },
    {
      "cell_type": "markdown",
      "metadata": {
        "id": "jGUhaBPZMoQ2"
      },
      "source": [
        "## Get the Data"
      ]
    },
    {
      "cell_type": "code",
      "execution_count": null,
      "metadata": {
        "id": "BGdWOU6hG9lh"
      },
      "outputs": [],
      "source": [
        "DATA = \"auto-mpg.data.txt\""
      ]
    },
    {
      "cell_type": "markdown",
      "metadata": {
        "id": "JqaKOwCZM4-o"
      },
      "source": [
        "## Libraries"
      ]
    },
    {
      "cell_type": "code",
      "execution_count": null,
      "metadata": {
        "id": "AYXgygHXM2xu"
      },
      "outputs": [],
      "source": [
        "from pyspark.sql import SparkSession\n",
        "from pyspark.sql import functions as F\n",
        "from pyspark.sql.types import StringType"
      ]
    },
    {
      "cell_type": "markdown",
      "metadata": {
        "id": "ndhdlseWNADX"
      },
      "source": [
        "## Main"
      ]
    },
    {
      "cell_type": "code",
      "execution_count": null,
      "metadata": {
        "id": "EdrVqR5CNDnc"
      },
      "outputs": [],
      "source": [
        "spark = SparkSession.builder.appName('AUTO-MPG').getOrCreate()\n",
        "df = spark.read.csv(DATA,header=True)"
      ]
    },
    {
      "cell_type": "code",
      "execution_count": null,
      "metadata": {
        "colab": {
          "base_uri": "https://localhost:8080/"
        },
        "id": "XS3c5MD_NHhH",
        "outputId": "a35af6b8-acf5-40a9-9040-03d4dec691b3"
      },
      "outputs": [
        {
          "name": "stdout",
          "output_type": "stream",
          "text": [
            "+---+---------+------------+----------+------+------------+----------+------+--------------------+\n",
            "|mpg|cylinders|displacement|horsepower|weight|acceleration|model_year|origin|                name|\n",
            "+---+---------+------------+----------+------+------------+----------+------+--------------------+\n",
            "| 18|        8|         307|       130|  3504|          12|        70|     1|chevrolet chevell...|\n",
            "| 15|        8|         350|       165|  3693|        11.5|        70|     1|   buick skylark 320|\n",
            "| 18|        8|         318|       150|  3436|          11|        70|     1|  plymouth satellite|\n",
            "| 16|        8|         304|       150|  3433|          12|        70|     1|       amc rebel sst|\n",
            "| 17|        8|         302|       140|  3449|        10.5|        70|     1|         ford torino|\n",
            "| 15|        8|         429|       198|  4341|          10|        70|     1|    ford galaxie 500|\n",
            "| 14|        8|         454|       220|  4354|           9|        70|     1|    chevrolet impala|\n",
            "| 14|        8|         440|       215|  4312|         8.5|        70|     1|   plymouth fury iii|\n",
            "| 14|        8|         455|       225|  4425|          10|        70|     1|    pontiac catalina|\n",
            "| 15|        8|         390|       190|  3850|         8.5|        70|     1|  amc ambassador dpl|\n",
            "| 15|        8|         383|       170|  3563|          10|        70|     1| dodge challenger se|\n",
            "| 14|        8|         340|       160|  3609|           8|        70|     1|  plymouth 'cuda 340|\n",
            "| 15|        8|         400|       150|  3761|         9.5|        70|     1|chevrolet monte c...|\n",
            "| 14|        8|         455|       225|  3086|          10|        70|     1|buick estate wago...|\n",
            "| 24|        4|         113|        95|  2372|          15|        70|     3|toyota corona mar...|\n",
            "| 22|        6|         198|        95|  2833|        15.5|        70|     1|     plymouth duster|\n",
            "| 18|        6|         199|        97|  2774|        15.5|        70|     1|          amc hornet|\n",
            "| 21|        6|         200|        85|  2587|          16|        70|     1|       ford maverick|\n",
            "| 27|        4|          97|        88|  2130|        14.5|        70|     3|        datsun pl510|\n",
            "| 26|        4|          97|        46|  1835|        20.5|        70|     2|volkswagen 1131 d...|\n",
            "+---+---------+------------+----------+------+------------+----------+------+--------------------+\n",
            "only showing top 20 rows\n",
            "\n"
          ]
        }
      ],
      "source": [
        "df.show()"
      ]
    },
    {
      "cell_type": "code",
      "execution_count": null,
      "metadata": {
        "id": "Lh85qj4HamZj"
      },
      "outputs": [],
      "source": [
        "df = df.withColumn(\"acceleration\", df.mpg.cast(\"float\"))"
      ]
    },
    {
      "cell_type": "code",
      "execution_count": null,
      "metadata": {
        "id": "st3Dk25NaMmy"
      },
      "outputs": [],
      "source": [
        "def accSplit(acceleration):\n",
        "\n",
        "  if 0 > acceleration > 7:\n",
        "    return \"Fast Car\"\n",
        "  elif acceleration < 12:\n",
        "    return \"Average Car\"\n",
        "  else:\n",
        "    return \"Slow Car\"\n",
        "\n",
        "myfunction = F.udf(accSplit, StringType())"
      ]
    },
    {
      "cell_type": "code",
      "execution_count": null,
      "metadata": {
        "colab": {
          "base_uri": "https://localhost:8080/"
        },
        "id": "5mqTg57NaZf9",
        "outputId": "48c8b572-1609-449e-83ef-ad368724a1b0"
      },
      "outputs": [
        {
          "name": "stdout",
          "output_type": "stream",
          "text": [
            "+---+---------+------------+----------+------+------------+----------+------+--------------------+--------+\n",
            "|mpg|cylinders|displacement|horsepower|weight|acceleration|model_year|origin|                name|Car-Type|\n",
            "+---+---------+------------+----------+------+------------+----------+------+--------------------+--------+\n",
            "| 18|        8|         307|       130|  3504|        18.0|        70|     1|chevrolet chevell...|Slow Car|\n",
            "| 15|        8|         350|       165|  3693|        15.0|        70|     1|   buick skylark 320|Slow Car|\n",
            "| 18|        8|         318|       150|  3436|        18.0|        70|     1|  plymouth satellite|Slow Car|\n",
            "| 16|        8|         304|       150|  3433|        16.0|        70|     1|       amc rebel sst|Slow Car|\n",
            "| 17|        8|         302|       140|  3449|        17.0|        70|     1|         ford torino|Slow Car|\n",
            "| 15|        8|         429|       198|  4341|        15.0|        70|     1|    ford galaxie 500|Slow Car|\n",
            "| 14|        8|         454|       220|  4354|        14.0|        70|     1|    chevrolet impala|Slow Car|\n",
            "| 14|        8|         440|       215|  4312|        14.0|        70|     1|   plymouth fury iii|Slow Car|\n",
            "| 14|        8|         455|       225|  4425|        14.0|        70|     1|    pontiac catalina|Slow Car|\n",
            "| 15|        8|         390|       190|  3850|        15.0|        70|     1|  amc ambassador dpl|Slow Car|\n",
            "| 15|        8|         383|       170|  3563|        15.0|        70|     1| dodge challenger se|Slow Car|\n",
            "| 14|        8|         340|       160|  3609|        14.0|        70|     1|  plymouth 'cuda 340|Slow Car|\n",
            "| 15|        8|         400|       150|  3761|        15.0|        70|     1|chevrolet monte c...|Slow Car|\n",
            "| 14|        8|         455|       225|  3086|        14.0|        70|     1|buick estate wago...|Slow Car|\n",
            "| 24|        4|         113|        95|  2372|        24.0|        70|     3|toyota corona mar...|Slow Car|\n",
            "| 22|        6|         198|        95|  2833|        22.0|        70|     1|     plymouth duster|Slow Car|\n",
            "| 18|        6|         199|        97|  2774|        18.0|        70|     1|          amc hornet|Slow Car|\n",
            "| 21|        6|         200|        85|  2587|        21.0|        70|     1|       ford maverick|Slow Car|\n",
            "| 27|        4|          97|        88|  2130|        27.0|        70|     3|        datsun pl510|Slow Car|\n",
            "| 26|        4|          97|        46|  1835|        26.0|        70|     2|volkswagen 1131 d...|Slow Car|\n",
            "+---+---------+------------+----------+------+------------+----------+------+--------------------+--------+\n",
            "only showing top 20 rows\n",
            "\n"
          ]
        }
      ],
      "source": [
        "df = df.withColumn(\"Car-Type\", myfunction(\"acceleration\"))\n",
        "df.show()"
      ]
    }
  ],
  "metadata": {
    "colab": {
      "provenance": []
    },
    "kernelspec": {
      "display_name": "Python 3",
      "language": "python",
      "name": "python3"
    },
    "language_info": {
      "name": "python",
      "version": "3.8.6 (tags/v3.8.6:db45529, Sep 23 2020, 15:52:53) [MSC v.1927 64 bit (AMD64)]"
    },
    "vscode": {
      "interpreter": {
        "hash": "3871db0c80cf644179281cfa1b732df82c64ec712a5f5e68a18b4fa12b33a72e"
      }
    }
  },
  "nbformat": 4,
  "nbformat_minor": 0
}
